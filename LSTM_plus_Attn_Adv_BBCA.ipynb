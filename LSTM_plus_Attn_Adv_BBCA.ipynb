{
 "cells": [
  {
   "cell_type": "code",
   "execution_count": 1,
   "metadata": {
    "id": "HPoI9N6En71B"
   },
   "outputs": [],
   "source": [
    "!pip install tensorflow -qqq\n",
    "!pip install keras -qqq\n",
    "!pip install yfinance -qqq\n"
   ]
  },
  {
   "cell_type": "markdown",
   "metadata": {
    "id": "WJ2xxv7W2sU3"
   },
   "source": [
    "#Attention Mechanism: Enhancing LSTM\n",
    "\n",
    "The attention mechanism, initially popularized in the field of natural language processing, has found its way into various other domains, including finance. It operates on a simple yet profound concept: not all parts of the input sequence are equally important. By allowing the model to focus on specific parts of the input sequence while ignoring others, the attention mechanism enhances the model’s context understanding capabilities.\n",
    "\n",
    "Incorporating attention into LSTM networks results in a more focused and context-aware model. When predicting stock prices, certain historical data points may be more relevant than others. The attention mechanism empowers the LSTM to weigh these points more heavily, leading to more accurate and nuanced predictions.\n",
    "\n",
    "#The Relevance in Financial Pattern Prediction\n",
    "\n",
    "The amalgamation of LSTM with attention mechanisms creates a robust model for financial pattern prediction. The financial market is a complex adaptive system, influenced by a multitude of factors and exhibiting non-linear characteristics. Traditional models often fall short in capturing this complexity. However, LSTM networks, especially when combined with an attention mechanism, are adept at unraveling these patterns, offering a deeper understanding and more accurate forecasts of future stock movements.\n",
    "\n",
    "As we proceed to build and implement an LSTM with an attention mechanism to predict the next four candles of AAPL’s stock, we delve into a sophisticated realm of financial analysis, one that holds the promise of revolutionizing how we interpret and respond to the ever-changing dynamics of the stock market."
   ]
  },
  {
   "cell_type": "code",
   "execution_count": 2,
   "metadata": {
    "colab": {
     "base_uri": "https://localhost:8080/"
    },
    "id": "TCjjaDB2oDJi",
    "outputId": "e79e4502-67e2-422b-c748-8734a78faa31"
   },
   "outputs": [
    {
     "name": "stdout",
     "output_type": "stream",
     "text": [
      "TensorFlow Version:  2.15.0\n"
     ]
    }
   ],
   "source": [
    "import tensorflow as tf\n",
    "import keras\n",
    "import yfinance as yf\n",
    "import numpy as np\n",
    "import pandas as pd\n",
    "import matplotlib.pyplot as plt\n",
    "\n",
    "# Check TensorFlow version\n",
    "print(\"TensorFlow Version: \", tf.__version__)\n"
   ]
  },
  {
   "cell_type": "markdown",
   "metadata": {
    "id": "ONo_UCVP4LCK"
   },
   "source": [
    "#Data Acquisition from yfinance"
   ]
  },
  {
   "cell_type": "code",
   "execution_count": 4,
   "metadata": {
    "colab": {
     "base_uri": "https://localhost:8080/",
     "height": 255
    },
    "id": "f_5OSpdNoJmV",
    "outputId": "b3e98fd5-ad07-40da-8ab4-7b5462315feb"
   },
   "outputs": [
    {
     "name": "stderr",
     "output_type": "stream",
     "text": [
      "\r",
      "[*********************100%%**********************]  1 of 1 completed\n"
     ]
    },
    {
     "data": {
      "application/vnd.google.colaboratory.intrinsic+json": {
       "summary": "{\n  \"name\": \"bbca_data\",\n  \"rows\": 1036,\n  \"fields\": [\n    {\n      \"column\": \"Date\",\n      \"properties\": {\n        \"dtype\": \"date\",\n        \"min\": \"2020-01-02 00:00:00\",\n        \"max\": \"2024-04-04 00:00:00\",\n        \"num_unique_values\": 1036,\n        \"samples\": [\n          \"2022-07-26 00:00:00\",\n          \"2020-06-15 00:00:00\",\n          \"2022-09-02 00:00:00\"\n        ],\n        \"semantic_type\": \"\",\n        \"description\": \"\"\n      }\n    },\n    {\n      \"column\": \"Open\",\n      \"properties\": {\n        \"dtype\": \"number\",\n        \"std\": 1303.645545976127,\n        \"min\": 4450.0,\n        \"max\": 10400.0,\n        \"num_unique_values\": 352,\n        \"samples\": [\n          6510.0,\n          6220.0,\n          5460.0\n        ],\n        \"semantic_type\": \"\",\n        \"description\": \"\"\n      }\n    },\n    {\n      \"column\": \"High\",\n      \"properties\": {\n        \"dtype\": \"number\",\n        \"std\": 1299.8503855257572,\n        \"min\": 4800.0,\n        \"max\": 10400.0,\n        \"num_unique_values\": 359,\n        \"samples\": [\n          6175.0,\n          5000.0,\n          8575.0\n        ],\n        \"semantic_type\": \"\",\n        \"description\": \"\"\n      }\n    },\n    {\n      \"column\": \"Low\",\n      \"properties\": {\n        \"dtype\": \"number\",\n        \"std\": 1312.0396169929638,\n        \"min\": 4325.0,\n        \"max\": 10150.0,\n        \"num_unique_values\": 359,\n        \"samples\": [\n          6115.0,\n          4650.0,\n          8325.0\n        ],\n        \"semantic_type\": \"\",\n        \"description\": \"\"\n      }\n    },\n    {\n      \"column\": \"Close\",\n      \"properties\": {\n        \"dtype\": \"number\",\n        \"std\": 1308.5650201594747,\n        \"min\": 4430.0,\n        \"max\": 10325.0,\n        \"num_unique_values\": 370,\n        \"samples\": [\n          9125.0,\n          6200.0,\n          6785.0\n        ],\n        \"semantic_type\": \"\",\n        \"description\": \"\"\n      }\n    },\n    {\n      \"column\": \"Adj Close\",\n      \"properties\": {\n        \"dtype\": \"number\",\n        \"std\": 1398.5657945163189,\n        \"min\": 3992.932373046875,\n        \"max\": 10092.431640625,\n        \"num_unique_values\": 532,\n        \"samples\": [\n          6079.5322265625,\n          8626.21875,\n          5593.2158203125\n        ],\n        \"semantic_type\": \"\",\n        \"description\": \"\"\n      }\n    },\n    {\n      \"column\": \"Volume\",\n      \"properties\": {\n        \"dtype\": \"number\",\n        \"std\": 56128540,\n        \"min\": 0,\n        \"max\": 722827900,\n        \"num_unique_values\": 1033,\n        \"samples\": [\n          67523500,\n          67344200,\n          86136900\n        ],\n        \"semantic_type\": \"\",\n        \"description\": \"\"\n      }\n    }\n  ]\n}",
       "type": "dataframe",
       "variable_name": "bbca_data"
      },
      "text/html": [
       "\n",
       "  <div id=\"df-f940f037-aa4f-45d3-9e4a-4e7ab71f9139\" class=\"colab-df-container\">\n",
       "    <div>\n",
       "<style scoped>\n",
       "    .dataframe tbody tr th:only-of-type {\n",
       "        vertical-align: middle;\n",
       "    }\n",
       "\n",
       "    .dataframe tbody tr th {\n",
       "        vertical-align: top;\n",
       "    }\n",
       "\n",
       "    .dataframe thead th {\n",
       "        text-align: right;\n",
       "    }\n",
       "</style>\n",
       "<table border=\"1\" class=\"dataframe\">\n",
       "  <thead>\n",
       "    <tr style=\"text-align: right;\">\n",
       "      <th></th>\n",
       "      <th>Open</th>\n",
       "      <th>High</th>\n",
       "      <th>Low</th>\n",
       "      <th>Close</th>\n",
       "      <th>Adj Close</th>\n",
       "      <th>Volume</th>\n",
       "    </tr>\n",
       "    <tr>\n",
       "      <th>Date</th>\n",
       "      <th></th>\n",
       "      <th></th>\n",
       "      <th></th>\n",
       "      <th></th>\n",
       "      <th></th>\n",
       "      <th></th>\n",
       "    </tr>\n",
       "  </thead>\n",
       "  <tbody>\n",
       "    <tr>\n",
       "      <th>2020-01-02</th>\n",
       "      <td>6695.0</td>\n",
       "      <td>6780.0</td>\n",
       "      <td>6680.0</td>\n",
       "      <td>6690.0</td>\n",
       "      <td>6029.958496</td>\n",
       "      <td>49445000</td>\n",
       "    </tr>\n",
       "    <tr>\n",
       "      <th>2020-01-03</th>\n",
       "      <td>6750.0</td>\n",
       "      <td>6800.0</td>\n",
       "      <td>6725.0</td>\n",
       "      <td>6800.0</td>\n",
       "      <td>6129.104492</td>\n",
       "      <td>47755500</td>\n",
       "    </tr>\n",
       "    <tr>\n",
       "      <th>2020-01-06</th>\n",
       "      <td>6720.0</td>\n",
       "      <td>6750.0</td>\n",
       "      <td>6690.0</td>\n",
       "      <td>6735.0</td>\n",
       "      <td>6070.518555</td>\n",
       "      <td>27300000</td>\n",
       "    </tr>\n",
       "    <tr>\n",
       "      <th>2020-01-07</th>\n",
       "      <td>6735.0</td>\n",
       "      <td>6770.0</td>\n",
       "      <td>6730.0</td>\n",
       "      <td>6740.0</td>\n",
       "      <td>6075.024414</td>\n",
       "      <td>45022500</td>\n",
       "    </tr>\n",
       "    <tr>\n",
       "      <th>2020-01-08</th>\n",
       "      <td>6670.0</td>\n",
       "      <td>6745.0</td>\n",
       "      <td>6670.0</td>\n",
       "      <td>6680.0</td>\n",
       "      <td>6020.944824</td>\n",
       "      <td>53692500</td>\n",
       "    </tr>\n",
       "  </tbody>\n",
       "</table>\n",
       "</div>\n",
       "    <div class=\"colab-df-buttons\">\n",
       "\n",
       "  <div class=\"colab-df-container\">\n",
       "    <button class=\"colab-df-convert\" onclick=\"convertToInteractive('df-f940f037-aa4f-45d3-9e4a-4e7ab71f9139')\"\n",
       "            title=\"Convert this dataframe to an interactive table.\"\n",
       "            style=\"display:none;\">\n",
       "\n",
       "  <svg xmlns=\"http://www.w3.org/2000/svg\" height=\"24px\" viewBox=\"0 -960 960 960\">\n",
       "    <path d=\"M120-120v-720h720v720H120Zm60-500h600v-160H180v160Zm220 220h160v-160H400v160Zm0 220h160v-160H400v160ZM180-400h160v-160H180v160Zm440 0h160v-160H620v160ZM180-180h160v-160H180v160Zm440 0h160v-160H620v160Z\"/>\n",
       "  </svg>\n",
       "    </button>\n",
       "\n",
       "  <style>\n",
       "    .colab-df-container {\n",
       "      display:flex;\n",
       "      gap: 12px;\n",
       "    }\n",
       "\n",
       "    .colab-df-convert {\n",
       "      background-color: #E8F0FE;\n",
       "      border: none;\n",
       "      border-radius: 50%;\n",
       "      cursor: pointer;\n",
       "      display: none;\n",
       "      fill: #1967D2;\n",
       "      height: 32px;\n",
       "      padding: 0 0 0 0;\n",
       "      width: 32px;\n",
       "    }\n",
       "\n",
       "    .colab-df-convert:hover {\n",
       "      background-color: #E2EBFA;\n",
       "      box-shadow: 0px 1px 2px rgba(60, 64, 67, 0.3), 0px 1px 3px 1px rgba(60, 64, 67, 0.15);\n",
       "      fill: #174EA6;\n",
       "    }\n",
       "\n",
       "    .colab-df-buttons div {\n",
       "      margin-bottom: 4px;\n",
       "    }\n",
       "\n",
       "    [theme=dark] .colab-df-convert {\n",
       "      background-color: #3B4455;\n",
       "      fill: #D2E3FC;\n",
       "    }\n",
       "\n",
       "    [theme=dark] .colab-df-convert:hover {\n",
       "      background-color: #434B5C;\n",
       "      box-shadow: 0px 1px 3px 1px rgba(0, 0, 0, 0.15);\n",
       "      filter: drop-shadow(0px 1px 2px rgba(0, 0, 0, 0.3));\n",
       "      fill: #FFFFFF;\n",
       "    }\n",
       "  </style>\n",
       "\n",
       "    <script>\n",
       "      const buttonEl =\n",
       "        document.querySelector('#df-f940f037-aa4f-45d3-9e4a-4e7ab71f9139 button.colab-df-convert');\n",
       "      buttonEl.style.display =\n",
       "        google.colab.kernel.accessAllowed ? 'block' : 'none';\n",
       "\n",
       "      async function convertToInteractive(key) {\n",
       "        const element = document.querySelector('#df-f940f037-aa4f-45d3-9e4a-4e7ab71f9139');\n",
       "        const dataTable =\n",
       "          await google.colab.kernel.invokeFunction('convertToInteractive',\n",
       "                                                    [key], {});\n",
       "        if (!dataTable) return;\n",
       "\n",
       "        const docLinkHtml = 'Like what you see? Visit the ' +\n",
       "          '<a target=\"_blank\" href=https://colab.research.google.com/notebooks/data_table.ipynb>data table notebook</a>'\n",
       "          + ' to learn more about interactive tables.';\n",
       "        element.innerHTML = '';\n",
       "        dataTable['output_type'] = 'display_data';\n",
       "        await google.colab.output.renderOutput(dataTable, element);\n",
       "        const docLink = document.createElement('div');\n",
       "        docLink.innerHTML = docLinkHtml;\n",
       "        element.appendChild(docLink);\n",
       "      }\n",
       "    </script>\n",
       "  </div>\n",
       "\n",
       "\n",
       "<div id=\"df-6ac0f0b8-228d-4f32-8045-cbd9ad48b0d4\">\n",
       "  <button class=\"colab-df-quickchart\" onclick=\"quickchart('df-6ac0f0b8-228d-4f32-8045-cbd9ad48b0d4')\"\n",
       "            title=\"Suggest charts\"\n",
       "            style=\"display:none;\">\n",
       "\n",
       "<svg xmlns=\"http://www.w3.org/2000/svg\" height=\"24px\"viewBox=\"0 0 24 24\"\n",
       "     width=\"24px\">\n",
       "    <g>\n",
       "        <path d=\"M19 3H5c-1.1 0-2 .9-2 2v14c0 1.1.9 2 2 2h14c1.1 0 2-.9 2-2V5c0-1.1-.9-2-2-2zM9 17H7v-7h2v7zm4 0h-2V7h2v10zm4 0h-2v-4h2v4z\"/>\n",
       "    </g>\n",
       "</svg>\n",
       "  </button>\n",
       "\n",
       "<style>\n",
       "  .colab-df-quickchart {\n",
       "      --bg-color: #E8F0FE;\n",
       "      --fill-color: #1967D2;\n",
       "      --hover-bg-color: #E2EBFA;\n",
       "      --hover-fill-color: #174EA6;\n",
       "      --disabled-fill-color: #AAA;\n",
       "      --disabled-bg-color: #DDD;\n",
       "  }\n",
       "\n",
       "  [theme=dark] .colab-df-quickchart {\n",
       "      --bg-color: #3B4455;\n",
       "      --fill-color: #D2E3FC;\n",
       "      --hover-bg-color: #434B5C;\n",
       "      --hover-fill-color: #FFFFFF;\n",
       "      --disabled-bg-color: #3B4455;\n",
       "      --disabled-fill-color: #666;\n",
       "  }\n",
       "\n",
       "  .colab-df-quickchart {\n",
       "    background-color: var(--bg-color);\n",
       "    border: none;\n",
       "    border-radius: 50%;\n",
       "    cursor: pointer;\n",
       "    display: none;\n",
       "    fill: var(--fill-color);\n",
       "    height: 32px;\n",
       "    padding: 0;\n",
       "    width: 32px;\n",
       "  }\n",
       "\n",
       "  .colab-df-quickchart:hover {\n",
       "    background-color: var(--hover-bg-color);\n",
       "    box-shadow: 0 1px 2px rgba(60, 64, 67, 0.3), 0 1px 3px 1px rgba(60, 64, 67, 0.15);\n",
       "    fill: var(--button-hover-fill-color);\n",
       "  }\n",
       "\n",
       "  .colab-df-quickchart-complete:disabled,\n",
       "  .colab-df-quickchart-complete:disabled:hover {\n",
       "    background-color: var(--disabled-bg-color);\n",
       "    fill: var(--disabled-fill-color);\n",
       "    box-shadow: none;\n",
       "  }\n",
       "\n",
       "  .colab-df-spinner {\n",
       "    border: 2px solid var(--fill-color);\n",
       "    border-color: transparent;\n",
       "    border-bottom-color: var(--fill-color);\n",
       "    animation:\n",
       "      spin 1s steps(1) infinite;\n",
       "  }\n",
       "\n",
       "  @keyframes spin {\n",
       "    0% {\n",
       "      border-color: transparent;\n",
       "      border-bottom-color: var(--fill-color);\n",
       "      border-left-color: var(--fill-color);\n",
       "    }\n",
       "    20% {\n",
       "      border-color: transparent;\n",
       "      border-left-color: var(--fill-color);\n",
       "      border-top-color: var(--fill-color);\n",
       "    }\n",
       "    30% {\n",
       "      border-color: transparent;\n",
       "      border-left-color: var(--fill-color);\n",
       "      border-top-color: var(--fill-color);\n",
       "      border-right-color: var(--fill-color);\n",
       "    }\n",
       "    40% {\n",
       "      border-color: transparent;\n",
       "      border-right-color: var(--fill-color);\n",
       "      border-top-color: var(--fill-color);\n",
       "    }\n",
       "    60% {\n",
       "      border-color: transparent;\n",
       "      border-right-color: var(--fill-color);\n",
       "    }\n",
       "    80% {\n",
       "      border-color: transparent;\n",
       "      border-right-color: var(--fill-color);\n",
       "      border-bottom-color: var(--fill-color);\n",
       "    }\n",
       "    90% {\n",
       "      border-color: transparent;\n",
       "      border-bottom-color: var(--fill-color);\n",
       "    }\n",
       "  }\n",
       "</style>\n",
       "\n",
       "  <script>\n",
       "    async function quickchart(key) {\n",
       "      const quickchartButtonEl =\n",
       "        document.querySelector('#' + key + ' button');\n",
       "      quickchartButtonEl.disabled = true;  // To prevent multiple clicks.\n",
       "      quickchartButtonEl.classList.add('colab-df-spinner');\n",
       "      try {\n",
       "        const charts = await google.colab.kernel.invokeFunction(\n",
       "            'suggestCharts', [key], {});\n",
       "      } catch (error) {\n",
       "        console.error('Error during call to suggestCharts:', error);\n",
       "      }\n",
       "      quickchartButtonEl.classList.remove('colab-df-spinner');\n",
       "      quickchartButtonEl.classList.add('colab-df-quickchart-complete');\n",
       "    }\n",
       "    (() => {\n",
       "      let quickchartButtonEl =\n",
       "        document.querySelector('#df-6ac0f0b8-228d-4f32-8045-cbd9ad48b0d4 button');\n",
       "      quickchartButtonEl.style.display =\n",
       "        google.colab.kernel.accessAllowed ? 'block' : 'none';\n",
       "    })();\n",
       "  </script>\n",
       "</div>\n",
       "    </div>\n",
       "  </div>\n"
      ],
      "text/plain": [
       "              Open    High     Low   Close    Adj Close    Volume\n",
       "Date                                                             \n",
       "2020-01-02  6695.0  6780.0  6680.0  6690.0  6029.958496  49445000\n",
       "2020-01-03  6750.0  6800.0  6725.0  6800.0  6129.104492  47755500\n",
       "2020-01-06  6720.0  6750.0  6690.0  6735.0  6070.518555  27300000\n",
       "2020-01-07  6735.0  6770.0  6730.0  6740.0  6075.024414  45022500\n",
       "2020-01-08  6670.0  6745.0  6670.0  6680.0  6020.944824  53692500"
      ]
     },
     "execution_count": 4,
     "metadata": {},
     "output_type": "execute_result"
    }
   ],
   "source": [
    "# Fetch AAPL data\n",
    "bbca_data = yf.download('BBCA.JK', start='2020-01-01', end='2024-04-05')\n",
    "\n",
    "# Display the first few rows of the dataframe\n",
    "bbca_data.head()\n"
   ]
  },
  {
   "cell_type": "markdown",
   "metadata": {
    "id": "o1KPODVL4eaI"
   },
   "source": [
    "#Data Cleaning"
   ]
  },
  {
   "cell_type": "code",
   "execution_count": 5,
   "metadata": {
    "id": "uicfUmH3hrN8"
   },
   "outputs": [],
   "source": [
    "# Checking for missing values\n",
    "bbca_data.isnull().sum()\n",
    "\n",
    "# Filling missing values, if any\n",
    "bbca_data.fillna(method='ffill', inplace=True)"
   ]
  },
  {
   "cell_type": "markdown",
   "metadata": {
    "id": "uKSr5Puy4y0O"
   },
   "source": [
    "#Normalization\n",
    "Normalization is a technique used to change the values of numeric columns in the dataset to a common scale, without distorting differences in the ranges of values.\n",
    "\n",
    "Applying Min-Max Scaling: This scales the dataset so that all the input features lie between 0 and 1."
   ]
  },
  {
   "cell_type": "code",
   "execution_count": 7,
   "metadata": {
    "id": "3s36F4gMhtje"
   },
   "outputs": [],
   "source": [
    "from sklearn.preprocessing import MinMaxScaler\n",
    "\n",
    "scaler = MinMaxScaler(feature_range=(0,1))\n",
    "bbca_data_scaled = scaler.fit_transform(bbca_data['Close'].values.reshape(-1,1))\n"
   ]
  },
  {
   "cell_type": "markdown",
   "metadata": {
    "id": "-7hWpevh5Kn1"
   },
   "source": [
    "#Creating Sequences\n",
    "LSTM models require input to be in a sequence format. We transform the data into sequences for the model to learn from.\n",
    "\n",
    "Defining Sequence Length: Choose a sequence length (like 60 days). This means, for every sample, the model will look at the last 60 days of data to make a prediction."
   ]
  },
  {
   "cell_type": "code",
   "execution_count": 8,
   "metadata": {
    "id": "poWhQb3Lh7vN"
   },
   "outputs": [],
   "source": [
    "X = []\n",
    "y = []\n",
    "\n",
    "for i in range(60, len(bbca_data_scaled)):\n",
    "    X.append(bbca_data_scaled[i-60:i, 0])\n",
    "    y.append(bbca_data_scaled[i, 0])\n"
   ]
  },
  {
   "cell_type": "markdown",
   "metadata": {
    "id": "lXv5NZzH5V5-"
   },
   "source": [
    "#Train-Test Split\n",
    "Split the data into training and testing sets to evaluate the model’s performance properly.\n",
    "\n",
    "Defining Split Ratio: Typically, 80% of data is used for training and 20% for testing."
   ]
  },
  {
   "cell_type": "code",
   "execution_count": 9,
   "metadata": {
    "id": "KbYI0J75iGic"
   },
   "outputs": [],
   "source": [
    "train_size = int(len(X) * 0.8)\n",
    "test_size = len(X) - train_size\n",
    "\n",
    "X_train, X_test = X[:train_size], X[train_size:]\n",
    "y_train, y_test = y[:train_size], y[train_size:]\n"
   ]
  },
  {
   "cell_type": "markdown",
   "metadata": {
    "id": "7UiChzF65kFt"
   },
   "source": [
    "#Reshaping Data for LSTM\n",
    "Finally, we need to reshape our data into a 3D format [samples, time steps, features] required by LSTM layers."
   ]
  },
  {
   "cell_type": "code",
   "execution_count": 10,
   "metadata": {
    "id": "rIcgdJI3iVKW"
   },
   "outputs": [],
   "source": [
    "X_train, y_train = np.array(X_train), np.array(y_train)\n",
    "X_train = np.reshape(X_train, (X_train.shape[0], X_train.shape[1], 1))"
   ]
  },
  {
   "cell_type": "code",
   "execution_count": 11,
   "metadata": {
    "id": "d9ZNsLyOodPg"
   },
   "outputs": [],
   "source": [
    "# from keras.models import Sequential\n",
    "# from keras.layers import LSTM, Dense, Dropout\n",
    "\n",
    "# # Model initialization\n",
    "# model = Sequential()\n",
    "\n",
    "# # Adding the first LSTM layer\n",
    "# model.add(LSTM(units=50, return_sequences=True, input_shape=(X_train.shape[1], 1)))\n",
    "\n",
    "# # Adding additional LSTM layers\n",
    "# model.add(LSTM(units=50, return_sequences=True))\n",
    "# model.add(LSTM(units=50))\n"
   ]
  },
  {
   "cell_type": "markdown",
   "metadata": {
    "id": "UCsPZ8uv5ysi"
   },
   "source": [
    "#Creating LSTM Layers\n",
    "Our LSTM model will consist of several layers, including LSTM layers for processing the time-series data. The basic structure is as follows:"
   ]
  },
  {
   "cell_type": "code",
   "execution_count": 12,
   "metadata": {
    "colab": {
     "base_uri": "https://localhost:8080/"
    },
    "id": "Tm8OU_RQpjHv",
    "outputId": "969ba42f-8c2d-425b-df6b-e1357b15ca87"
   },
   "outputs": [
    {
     "name": "stdout",
     "output_type": "stream",
     "text": [
      "Epoch 1/100\n",
      "25/25 [==============================] - 9s 61ms/step - loss: 0.0379 - val_loss: 0.0050\n",
      "Epoch 2/100\n",
      "25/25 [==============================] - 0s 14ms/step - loss: 0.0042 - val_loss: 0.0049\n",
      "Epoch 3/100\n",
      "25/25 [==============================] - 0s 15ms/step - loss: 0.0022 - val_loss: 0.0018\n",
      "Epoch 4/100\n",
      "25/25 [==============================] - 0s 14ms/step - loss: 0.0019 - val_loss: 0.0016\n",
      "Epoch 5/100\n",
      "25/25 [==============================] - 0s 14ms/step - loss: 0.0018 - val_loss: 0.0016\n",
      "Epoch 6/100\n",
      "25/25 [==============================] - 0s 15ms/step - loss: 0.0018 - val_loss: 0.0015\n",
      "Epoch 7/100\n",
      "25/25 [==============================] - 0s 14ms/step - loss: 0.0018 - val_loss: 0.0019\n",
      "Epoch 8/100\n",
      "25/25 [==============================] - 0s 14ms/step - loss: 0.0017 - val_loss: 0.0023\n",
      "Epoch 9/100\n",
      "25/25 [==============================] - 0s 15ms/step - loss: 0.0016 - val_loss: 0.0015\n",
      "Epoch 10/100\n",
      "25/25 [==============================] - 0s 15ms/step - loss: 0.0016 - val_loss: 0.0035\n",
      "Epoch 11/100\n",
      "25/25 [==============================] - 0s 14ms/step - loss: 0.0017 - val_loss: 0.0024\n",
      "Epoch 12/100\n",
      "25/25 [==============================] - 0s 15ms/step - loss: 0.0018 - val_loss: 0.0018\n",
      "Epoch 13/100\n",
      "25/25 [==============================] - 0s 14ms/step - loss: 0.0017 - val_loss: 0.0020\n",
      "Epoch 14/100\n",
      "25/25 [==============================] - 0s 17ms/step - loss: 0.0016 - val_loss: 0.0028\n",
      "Epoch 15/100\n",
      "25/25 [==============================] - 1s 20ms/step - loss: 0.0014 - val_loss: 0.0012\n",
      "Epoch 16/100\n",
      "25/25 [==============================] - 1s 20ms/step - loss: 0.0014 - val_loss: 0.0013\n",
      "Epoch 17/100\n",
      "25/25 [==============================] - 1s 22ms/step - loss: 0.0013 - val_loss: 0.0014\n",
      "Epoch 18/100\n",
      "25/25 [==============================] - 1s 22ms/step - loss: 0.0014 - val_loss: 0.0012\n",
      "Epoch 19/100\n",
      "25/25 [==============================] - 0s 19ms/step - loss: 0.0012 - val_loss: 0.0012\n",
      "Epoch 20/100\n",
      "25/25 [==============================] - 0s 14ms/step - loss: 0.0013 - val_loss: 0.0012\n",
      "Epoch 21/100\n",
      "25/25 [==============================] - 0s 15ms/step - loss: 0.0013 - val_loss: 0.0014\n",
      "Epoch 22/100\n",
      "25/25 [==============================] - 0s 14ms/step - loss: 0.0012 - val_loss: 0.0015\n",
      "Epoch 23/100\n",
      "25/25 [==============================] - 0s 14ms/step - loss: 0.0012 - val_loss: 9.2129e-04\n",
      "Epoch 24/100\n",
      "25/25 [==============================] - 0s 14ms/step - loss: 0.0011 - val_loss: 8.6720e-04\n",
      "Epoch 25/100\n",
      "25/25 [==============================] - 0s 14ms/step - loss: 0.0011 - val_loss: 8.4109e-04\n",
      "Epoch 26/100\n",
      "25/25 [==============================] - 0s 14ms/step - loss: 0.0010 - val_loss: 0.0014\n",
      "Epoch 27/100\n",
      "25/25 [==============================] - 0s 14ms/step - loss: 9.9948e-04 - val_loss: 7.6338e-04\n",
      "Epoch 28/100\n",
      "25/25 [==============================] - 0s 14ms/step - loss: 0.0011 - val_loss: 0.0013\n",
      "Epoch 29/100\n",
      "25/25 [==============================] - 0s 15ms/step - loss: 9.4728e-04 - val_loss: 0.0011\n",
      "Epoch 30/100\n",
      "25/25 [==============================] - 0s 14ms/step - loss: 0.0011 - val_loss: 0.0014\n",
      "Epoch 31/100\n",
      "25/25 [==============================] - 0s 14ms/step - loss: 0.0010 - val_loss: 7.4225e-04\n",
      "Epoch 32/100\n",
      "25/25 [==============================] - 0s 15ms/step - loss: 8.6949e-04 - val_loss: 7.7872e-04\n",
      "Epoch 33/100\n",
      "25/25 [==============================] - 0s 15ms/step - loss: 8.1588e-04 - val_loss: 6.4245e-04\n",
      "Epoch 34/100\n",
      "25/25 [==============================] - 0s 14ms/step - loss: 7.9503e-04 - val_loss: 6.1836e-04\n",
      "Epoch 35/100\n",
      "25/25 [==============================] - 0s 14ms/step - loss: 7.3621e-04 - val_loss: 7.8393e-04\n",
      "Epoch 36/100\n",
      "25/25 [==============================] - 0s 14ms/step - loss: 7.3932e-04 - val_loss: 7.9150e-04\n",
      "Epoch 37/100\n",
      "25/25 [==============================] - 0s 14ms/step - loss: 0.0010 - val_loss: 6.4932e-04\n",
      "Epoch 38/100\n",
      "25/25 [==============================] - 0s 14ms/step - loss: 7.8116e-04 - val_loss: 7.4389e-04\n",
      "Epoch 39/100\n",
      "25/25 [==============================] - 0s 14ms/step - loss: 7.6708e-04 - val_loss: 7.1650e-04\n",
      "Epoch 40/100\n",
      "25/25 [==============================] - 0s 15ms/step - loss: 7.8523e-04 - val_loss: 5.5923e-04\n",
      "Epoch 41/100\n",
      "25/25 [==============================] - 0s 15ms/step - loss: 7.1113e-04 - val_loss: 8.6260e-04\n",
      "Epoch 42/100\n",
      "25/25 [==============================] - 0s 14ms/step - loss: 6.7779e-04 - val_loss: 5.8680e-04\n",
      "Epoch 43/100\n",
      "25/25 [==============================] - 0s 14ms/step - loss: 6.3372e-04 - val_loss: 6.0058e-04\n",
      "Epoch 44/100\n",
      "25/25 [==============================] - 0s 15ms/step - loss: 5.8802e-04 - val_loss: 5.3215e-04\n",
      "Epoch 45/100\n",
      "25/25 [==============================] - 0s 14ms/step - loss: 6.0972e-04 - val_loss: 6.3256e-04\n",
      "Epoch 46/100\n",
      "25/25 [==============================] - 0s 14ms/step - loss: 6.2750e-04 - val_loss: 0.0011\n",
      "Epoch 47/100\n",
      "25/25 [==============================] - 0s 18ms/step - loss: 5.6617e-04 - val_loss: 5.6659e-04\n",
      "Epoch 48/100\n",
      "25/25 [==============================] - 0s 20ms/step - loss: 5.4575e-04 - val_loss: 6.1349e-04\n",
      "Epoch 49/100\n",
      "25/25 [==============================] - 0s 19ms/step - loss: 6.5827e-04 - val_loss: 9.4706e-04\n",
      "Epoch 50/100\n",
      "25/25 [==============================] - 0s 20ms/step - loss: 5.4267e-04 - val_loss: 4.8514e-04\n",
      "Epoch 51/100\n",
      "25/25 [==============================] - 1s 22ms/step - loss: 5.2499e-04 - val_loss: 6.2024e-04\n",
      "Epoch 52/100\n",
      "25/25 [==============================] - 0s 18ms/step - loss: 5.4223e-04 - val_loss: 4.7640e-04\n",
      "Epoch 53/100\n",
      "25/25 [==============================] - 0s 14ms/step - loss: 5.0530e-04 - val_loss: 5.8664e-04\n",
      "Epoch 54/100\n",
      "25/25 [==============================] - 0s 14ms/step - loss: 5.6250e-04 - val_loss: 8.3683e-04\n",
      "Epoch 55/100\n",
      "25/25 [==============================] - 0s 14ms/step - loss: 5.1808e-04 - val_loss: 8.5365e-04\n",
      "Epoch 56/100\n",
      "25/25 [==============================] - 0s 15ms/step - loss: 5.5255e-04 - val_loss: 7.8370e-04\n",
      "Epoch 57/100\n",
      "25/25 [==============================] - 0s 14ms/step - loss: 6.1738e-04 - val_loss: 0.0010\n",
      "Epoch 58/100\n",
      "25/25 [==============================] - 0s 14ms/step - loss: 4.7119e-04 - val_loss: 7.5606e-04\n",
      "Epoch 59/100\n",
      "25/25 [==============================] - 0s 15ms/step - loss: 5.2491e-04 - val_loss: 9.0807e-04\n",
      "Epoch 60/100\n",
      "25/25 [==============================] - 0s 14ms/step - loss: 5.3089e-04 - val_loss: 4.4794e-04\n",
      "Epoch 61/100\n",
      "25/25 [==============================] - 0s 14ms/step - loss: 4.9811e-04 - val_loss: 4.2335e-04\n",
      "Epoch 62/100\n",
      "25/25 [==============================] - 0s 14ms/step - loss: 4.5515e-04 - val_loss: 6.7085e-04\n",
      "Epoch 63/100\n",
      "25/25 [==============================] - 0s 13ms/step - loss: 4.4211e-04 - val_loss: 4.1717e-04\n",
      "Epoch 64/100\n",
      "25/25 [==============================] - 0s 14ms/step - loss: 4.5340e-04 - val_loss: 4.0940e-04\n",
      "Epoch 65/100\n",
      "25/25 [==============================] - 0s 14ms/step - loss: 4.1535e-04 - val_loss: 4.0712e-04\n",
      "Epoch 66/100\n",
      "25/25 [==============================] - 0s 14ms/step - loss: 4.1618e-04 - val_loss: 7.6553e-04\n",
      "Epoch 67/100\n",
      "25/25 [==============================] - 0s 15ms/step - loss: 5.4973e-04 - val_loss: 0.0013\n",
      "Epoch 68/100\n",
      "25/25 [==============================] - 0s 15ms/step - loss: 5.7787e-04 - val_loss: 6.8396e-04\n",
      "Epoch 69/100\n",
      "25/25 [==============================] - 0s 14ms/step - loss: 4.7848e-04 - val_loss: 3.9630e-04\n",
      "Epoch 70/100\n",
      "25/25 [==============================] - 0s 15ms/step - loss: 4.1614e-04 - val_loss: 4.2945e-04\n",
      "Epoch 71/100\n",
      "25/25 [==============================] - 0s 15ms/step - loss: 4.0931e-04 - val_loss: 4.5234e-04\n",
      "Epoch 72/100\n",
      "25/25 [==============================] - 0s 14ms/step - loss: 4.0019e-04 - val_loss: 7.7584e-04\n",
      "Epoch 73/100\n",
      "25/25 [==============================] - 0s 15ms/step - loss: 4.3002e-04 - val_loss: 7.0025e-04\n",
      "Epoch 74/100\n",
      "25/25 [==============================] - 0s 14ms/step - loss: 5.2828e-04 - val_loss: 4.8057e-04\n",
      "Epoch 75/100\n",
      "25/25 [==============================] - 0s 16ms/step - loss: 4.2025e-04 - val_loss: 0.0015\n",
      "Epoch 76/100\n",
      "25/25 [==============================] - 0s 14ms/step - loss: 5.0423e-04 - val_loss: 3.9015e-04\n",
      "Epoch 77/100\n",
      "25/25 [==============================] - 0s 14ms/step - loss: 3.9642e-04 - val_loss: 5.9569e-04\n",
      "Epoch 78/100\n",
      "25/25 [==============================] - 0s 14ms/step - loss: 4.0279e-04 - val_loss: 4.2294e-04\n",
      "Epoch 79/100\n",
      "25/25 [==============================] - 0s 15ms/step - loss: 4.1377e-04 - val_loss: 5.4825e-04\n",
      "Epoch 80/100\n",
      "25/25 [==============================] - 1s 20ms/step - loss: 4.1977e-04 - val_loss: 4.1435e-04\n",
      "Epoch 81/100\n",
      "25/25 [==============================] - 0s 19ms/step - loss: 3.9143e-04 - val_loss: 3.8402e-04\n",
      "Epoch 82/100\n",
      "25/25 [==============================] - 1s 20ms/step - loss: 3.8686e-04 - val_loss: 3.8329e-04\n",
      "Epoch 83/100\n",
      "25/25 [==============================] - 1s 22ms/step - loss: 4.2884e-04 - val_loss: 4.7109e-04\n",
      "Epoch 84/100\n",
      "25/25 [==============================] - 1s 23ms/step - loss: 4.0385e-04 - val_loss: 3.6494e-04\n",
      "Epoch 85/100\n",
      "25/25 [==============================] - 0s 14ms/step - loss: 3.9554e-04 - val_loss: 7.1804e-04\n",
      "Epoch 86/100\n",
      "25/25 [==============================] - 0s 14ms/step - loss: 4.4215e-04 - val_loss: 5.3372e-04\n",
      "Epoch 87/100\n",
      "25/25 [==============================] - 0s 15ms/step - loss: 4.5528e-04 - val_loss: 4.1405e-04\n",
      "Epoch 88/100\n",
      "25/25 [==============================] - 0s 15ms/step - loss: 4.1131e-04 - val_loss: 9.6948e-04\n",
      "Epoch 89/100\n",
      "25/25 [==============================] - 0s 14ms/step - loss: 4.1013e-04 - val_loss: 3.6977e-04\n",
      "Epoch 90/100\n",
      "25/25 [==============================] - 0s 15ms/step - loss: 4.2898e-04 - val_loss: 6.3047e-04\n",
      "Epoch 91/100\n",
      "25/25 [==============================] - 0s 14ms/step - loss: 4.5472e-04 - val_loss: 0.0013\n",
      "Epoch 92/100\n",
      "25/25 [==============================] - 0s 14ms/step - loss: 4.0506e-04 - val_loss: 3.9289e-04\n",
      "Epoch 93/100\n",
      "25/25 [==============================] - 0s 15ms/step - loss: 3.6361e-04 - val_loss: 3.5825e-04\n",
      "Epoch 94/100\n",
      "25/25 [==============================] - 0s 15ms/step - loss: 4.0291e-04 - val_loss: 0.0012\n",
      "Epoch 95/100\n",
      "25/25 [==============================] - 0s 14ms/step - loss: 4.0774e-04 - val_loss: 4.3878e-04\n",
      "Epoch 96/100\n",
      "25/25 [==============================] - 0s 15ms/step - loss: 3.9868e-04 - val_loss: 3.7668e-04\n",
      "Epoch 97/100\n",
      "25/25 [==============================] - 0s 15ms/step - loss: 4.3994e-04 - val_loss: 3.8829e-04\n",
      "Epoch 98/100\n",
      "25/25 [==============================] - 0s 15ms/step - loss: 4.4494e-04 - val_loss: 3.6405e-04\n",
      "Epoch 99/100\n",
      "25/25 [==============================] - 0s 14ms/step - loss: 3.7498e-04 - val_loss: 3.6273e-04\n",
      "Epoch 100/100\n",
      "25/25 [==============================] - 0s 14ms/step - loss: 3.9539e-04 - val_loss: 4.9298e-04\n"
     ]
    }
   ],
   "source": [
    "from keras.models import Sequential\n",
    "from keras.layers import LSTM, Dense, Dropout\n",
    "\n",
    "model = Sequential()\n",
    "\n",
    "# Adding LSTM layers\n",
    "model.add(LSTM(units=50, return_sequences=True, input_shape=(X_train.shape[1], 1)))\n",
    "model.add(LSTM(units=50, return_sequences=True))\n",
    "model.add(LSTM(units=50, return_sequences=False))  # Only the last time step\n",
    "\n",
    "# Adding a Dense layer to match the output shape with y_train\n",
    "model.add(Dense(1))\n",
    "\n",
    "# Compiling the model\n",
    "model.compile(optimizer='adam', loss='mean_squared_error')\n",
    "\n",
    "# Training the model\n",
    "history = model.fit(X_train, y_train, epochs=100, batch_size=25, validation_split=0.2)\n"
   ]
  },
  {
   "cell_type": "markdown",
   "metadata": {
    "id": "k4RxqyKh6LUs"
   },
   "source": [
    "#Integrating the Attention Mechanism\n",
    "The attention mechanism can be added to enhance the model’s ability to focus on relevant time steps:"
   ]
  },
  {
   "cell_type": "code",
   "execution_count": 13,
   "metadata": {
    "colab": {
     "base_uri": "https://localhost:8080/"
    },
    "id": "dGQQgDCap2Vk",
    "outputId": "c00883e6-367a-48ea-b90d-dcdf7b51b508"
   },
   "outputs": [
    {
     "name": "stdout",
     "output_type": "stream",
     "text": [
      "Epoch 1/100\n",
      "25/25 [==============================] - 5s 48ms/step - loss: 0.0254 - val_loss: 0.0100\n",
      "Epoch 2/100\n",
      "25/25 [==============================] - 0s 12ms/step - loss: 0.0065 - val_loss: 0.0026\n",
      "Epoch 3/100\n",
      "25/25 [==============================] - 0s 11ms/step - loss: 0.0051 - val_loss: 0.0027\n",
      "Epoch 4/100\n",
      "25/25 [==============================] - 0s 13ms/step - loss: 0.0039 - val_loss: 0.0020\n",
      "Epoch 5/100\n",
      "25/25 [==============================] - 0s 11ms/step - loss: 0.0030 - val_loss: 0.0027\n",
      "Epoch 6/100\n",
      "25/25 [==============================] - 0s 11ms/step - loss: 0.0025 - val_loss: 0.0051\n",
      "Epoch 7/100\n",
      "25/25 [==============================] - 0s 11ms/step - loss: 0.0026 - val_loss: 0.0021\n",
      "Epoch 8/100\n",
      "25/25 [==============================] - 0s 11ms/step - loss: 0.0023 - val_loss: 0.0021\n",
      "Epoch 9/100\n",
      "25/25 [==============================] - 0s 11ms/step - loss: 0.0022 - val_loss: 0.0024\n",
      "Epoch 10/100\n",
      "25/25 [==============================] - 0s 12ms/step - loss: 0.0022 - val_loss: 0.0039\n",
      "Epoch 11/100\n",
      "25/25 [==============================] - 0s 16ms/step - loss: 0.0020 - val_loss: 0.0019\n",
      "Epoch 12/100\n",
      "25/25 [==============================] - 0s 16ms/step - loss: 0.0022 - val_loss: 0.0037\n",
      "Epoch 13/100\n",
      "25/25 [==============================] - 0s 15ms/step - loss: 0.0019 - val_loss: 0.0024\n",
      "Epoch 14/100\n",
      "25/25 [==============================] - 0s 15ms/step - loss: 0.0019 - val_loss: 0.0045\n",
      "Epoch 15/100\n",
      "25/25 [==============================] - 0s 16ms/step - loss: 0.0019 - val_loss: 0.0020\n",
      "Epoch 16/100\n",
      "25/25 [==============================] - 0s 16ms/step - loss: 0.0016 - val_loss: 0.0020\n",
      "Epoch 17/100\n",
      "25/25 [==============================] - 0s 14ms/step - loss: 0.0017 - val_loss: 0.0026\n",
      "Epoch 18/100\n",
      "25/25 [==============================] - 0s 11ms/step - loss: 0.0020 - val_loss: 0.0016\n",
      "Epoch 19/100\n",
      "25/25 [==============================] - 0s 11ms/step - loss: 0.0015 - val_loss: 0.0017\n",
      "Epoch 20/100\n",
      "25/25 [==============================] - 0s 13ms/step - loss: 0.0015 - val_loss: 0.0019\n",
      "Epoch 21/100\n",
      "25/25 [==============================] - 0s 12ms/step - loss: 0.0015 - val_loss: 0.0016\n",
      "Epoch 22/100\n",
      "25/25 [==============================] - 0s 11ms/step - loss: 0.0015 - val_loss: 0.0029\n",
      "Epoch 23/100\n",
      "25/25 [==============================] - 0s 11ms/step - loss: 0.0014 - val_loss: 0.0015\n",
      "Epoch 24/100\n",
      "25/25 [==============================] - 0s 12ms/step - loss: 0.0014 - val_loss: 0.0016\n",
      "Epoch 25/100\n",
      "25/25 [==============================] - 0s 11ms/step - loss: 0.0014 - val_loss: 0.0021\n",
      "Epoch 26/100\n",
      "25/25 [==============================] - 0s 12ms/step - loss: 0.0013 - val_loss: 0.0019\n",
      "Epoch 27/100\n",
      "25/25 [==============================] - 0s 11ms/step - loss: 0.0013 - val_loss: 0.0014\n",
      "Epoch 28/100\n",
      "25/25 [==============================] - 0s 13ms/step - loss: 0.0012 - val_loss: 0.0013\n",
      "Epoch 29/100\n",
      "25/25 [==============================] - 0s 11ms/step - loss: 0.0012 - val_loss: 0.0013\n",
      "Epoch 30/100\n",
      "25/25 [==============================] - 0s 11ms/step - loss: 0.0012 - val_loss: 0.0024\n",
      "Epoch 31/100\n",
      "25/25 [==============================] - 0s 12ms/step - loss: 0.0012 - val_loss: 0.0014\n",
      "Epoch 32/100\n",
      "25/25 [==============================] - 0s 12ms/step - loss: 0.0012 - val_loss: 0.0014\n",
      "Epoch 33/100\n",
      "25/25 [==============================] - 0s 11ms/step - loss: 0.0012 - val_loss: 0.0011\n",
      "Epoch 34/100\n",
      "25/25 [==============================] - 0s 11ms/step - loss: 0.0014 - val_loss: 0.0017\n",
      "Epoch 35/100\n",
      "25/25 [==============================] - 0s 12ms/step - loss: 0.0012 - val_loss: 0.0010\n",
      "Epoch 36/100\n",
      "25/25 [==============================] - 0s 11ms/step - loss: 0.0011 - val_loss: 0.0012\n",
      "Epoch 37/100\n",
      "25/25 [==============================] - 0s 12ms/step - loss: 0.0011 - val_loss: 0.0014\n",
      "Epoch 38/100\n",
      "25/25 [==============================] - 0s 11ms/step - loss: 0.0013 - val_loss: 0.0024\n",
      "Epoch 39/100\n",
      "25/25 [==============================] - 0s 11ms/step - loss: 0.0014 - val_loss: 0.0014\n",
      "Epoch 40/100\n",
      "25/25 [==============================] - 0s 11ms/step - loss: 0.0011 - val_loss: 0.0013\n",
      "Epoch 41/100\n",
      "25/25 [==============================] - 0s 11ms/step - loss: 0.0010 - val_loss: 0.0011\n",
      "Epoch 42/100\n",
      "25/25 [==============================] - 0s 13ms/step - loss: 9.5850e-04 - val_loss: 0.0011\n",
      "Epoch 43/100\n",
      "25/25 [==============================] - 0s 10ms/step - loss: 0.0011 - val_loss: 9.4296e-04\n",
      "Epoch 44/100\n",
      "25/25 [==============================] - 0s 11ms/step - loss: 9.7388e-04 - val_loss: 0.0011\n",
      "Epoch 45/100\n",
      "25/25 [==============================] - 0s 12ms/step - loss: 9.7029e-04 - val_loss: 0.0012\n",
      "Epoch 46/100\n",
      "25/25 [==============================] - 0s 12ms/step - loss: 9.2223e-04 - val_loss: 8.4221e-04\n",
      "Epoch 47/100\n",
      "25/25 [==============================] - 0s 12ms/step - loss: 0.0010 - val_loss: 0.0013\n",
      "Epoch 48/100\n",
      "25/25 [==============================] - 0s 11ms/step - loss: 9.8600e-04 - val_loss: 0.0010\n",
      "Epoch 49/100\n",
      "25/25 [==============================] - 0s 12ms/step - loss: 9.6678e-04 - val_loss: 9.9291e-04\n",
      "Epoch 50/100\n",
      "25/25 [==============================] - 0s 12ms/step - loss: 9.0965e-04 - val_loss: 9.5607e-04\n",
      "Epoch 51/100\n",
      "25/25 [==============================] - 0s 14ms/step - loss: 0.0010 - val_loss: 9.4340e-04\n",
      "Epoch 52/100\n",
      "25/25 [==============================] - 0s 17ms/step - loss: 0.0011 - val_loss: 9.3540e-04\n",
      "Epoch 53/100\n",
      "25/25 [==============================] - 0s 14ms/step - loss: 8.6427e-04 - val_loss: 0.0010\n",
      "Epoch 54/100\n",
      "25/25 [==============================] - 0s 15ms/step - loss: 7.7916e-04 - val_loss: 9.4665e-04\n",
      "Epoch 55/100\n",
      "25/25 [==============================] - 0s 16ms/step - loss: 7.7527e-04 - val_loss: 0.0011\n",
      "Epoch 56/100\n",
      "25/25 [==============================] - 0s 16ms/step - loss: 7.8041e-04 - val_loss: 8.1868e-04\n",
      "Epoch 57/100\n",
      "25/25 [==============================] - 0s 17ms/step - loss: 7.8040e-04 - val_loss: 7.9422e-04\n",
      "Epoch 58/100\n",
      "25/25 [==============================] - 0s 12ms/step - loss: 8.5929e-04 - val_loss: 6.8835e-04\n",
      "Epoch 59/100\n",
      "25/25 [==============================] - 0s 11ms/step - loss: 8.2321e-04 - val_loss: 0.0015\n",
      "Epoch 60/100\n",
      "25/25 [==============================] - 0s 13ms/step - loss: 9.4279e-04 - val_loss: 0.0024\n",
      "Epoch 61/100\n",
      "25/25 [==============================] - 0s 13ms/step - loss: 0.0011 - val_loss: 0.0014\n",
      "Epoch 62/100\n",
      "25/25 [==============================] - 0s 11ms/step - loss: 0.0010 - val_loss: 0.0016\n",
      "Epoch 63/100\n",
      "25/25 [==============================] - 0s 11ms/step - loss: 6.9843e-04 - val_loss: 9.1550e-04\n",
      "Epoch 64/100\n",
      "25/25 [==============================] - 0s 11ms/step - loss: 6.8449e-04 - val_loss: 6.9985e-04\n",
      "Epoch 65/100\n",
      "25/25 [==============================] - 0s 11ms/step - loss: 6.9246e-04 - val_loss: 7.2595e-04\n",
      "Epoch 66/100\n",
      "25/25 [==============================] - 0s 11ms/step - loss: 7.9589e-04 - val_loss: 0.0015\n",
      "Epoch 67/100\n",
      "25/25 [==============================] - 0s 11ms/step - loss: 6.9292e-04 - val_loss: 9.8900e-04\n",
      "Epoch 68/100\n",
      "25/25 [==============================] - 0s 12ms/step - loss: 7.0778e-04 - val_loss: 7.6395e-04\n",
      "Epoch 69/100\n",
      "25/25 [==============================] - 0s 11ms/step - loss: 7.1902e-04 - val_loss: 7.6680e-04\n",
      "Epoch 70/100\n",
      "25/25 [==============================] - 0s 12ms/step - loss: 7.1186e-04 - val_loss: 6.0642e-04\n",
      "Epoch 71/100\n",
      "25/25 [==============================] - 0s 11ms/step - loss: 6.2261e-04 - val_loss: 6.1306e-04\n",
      "Epoch 72/100\n",
      "25/25 [==============================] - 0s 11ms/step - loss: 6.4538e-04 - val_loss: 8.8844e-04\n",
      "Epoch 73/100\n",
      "25/25 [==============================] - 0s 11ms/step - loss: 6.3024e-04 - val_loss: 6.1409e-04\n",
      "Epoch 74/100\n",
      "25/25 [==============================] - 0s 11ms/step - loss: 6.1085e-04 - val_loss: 6.8673e-04\n",
      "Epoch 75/100\n",
      "25/25 [==============================] - 0s 11ms/step - loss: 5.8872e-04 - val_loss: 6.2939e-04\n",
      "Epoch 76/100\n",
      "25/25 [==============================] - 0s 11ms/step - loss: 6.3574e-04 - val_loss: 6.0655e-04\n",
      "Epoch 77/100\n",
      "25/25 [==============================] - 0s 12ms/step - loss: 5.9579e-04 - val_loss: 0.0016\n",
      "Epoch 78/100\n",
      "25/25 [==============================] - 0s 12ms/step - loss: 6.2979e-04 - val_loss: 6.9332e-04\n",
      "Epoch 79/100\n",
      "25/25 [==============================] - 0s 11ms/step - loss: 5.7384e-04 - val_loss: 8.3621e-04\n",
      "Epoch 80/100\n",
      "25/25 [==============================] - 0s 11ms/step - loss: 6.3378e-04 - val_loss: 7.7875e-04\n",
      "Epoch 81/100\n",
      "25/25 [==============================] - 0s 11ms/step - loss: 6.6039e-04 - val_loss: 0.0016\n",
      "Epoch 82/100\n",
      "25/25 [==============================] - 0s 11ms/step - loss: 6.1925e-04 - val_loss: 9.4070e-04\n",
      "Epoch 83/100\n",
      "25/25 [==============================] - 0s 11ms/step - loss: 5.7519e-04 - val_loss: 0.0019\n",
      "Epoch 84/100\n",
      "25/25 [==============================] - 0s 11ms/step - loss: 7.0295e-04 - val_loss: 5.7408e-04\n",
      "Epoch 85/100\n",
      "25/25 [==============================] - 0s 11ms/step - loss: 6.4021e-04 - val_loss: 5.4549e-04\n",
      "Epoch 86/100\n",
      "25/25 [==============================] - 0s 10ms/step - loss: 5.3994e-04 - val_loss: 5.8984e-04\n",
      "Epoch 87/100\n",
      "25/25 [==============================] - 0s 10ms/step - loss: 5.2196e-04 - val_loss: 6.3775e-04\n",
      "Epoch 88/100\n",
      "25/25 [==============================] - 0s 11ms/step - loss: 6.2192e-04 - val_loss: 6.3188e-04\n",
      "Epoch 89/100\n",
      "25/25 [==============================] - 0s 11ms/step - loss: 6.3063e-04 - val_loss: 6.0923e-04\n",
      "Epoch 90/100\n",
      "25/25 [==============================] - 0s 11ms/step - loss: 5.8450e-04 - val_loss: 0.0013\n",
      "Epoch 91/100\n",
      "25/25 [==============================] - 0s 13ms/step - loss: 5.3221e-04 - val_loss: 5.2842e-04\n",
      "Epoch 92/100\n",
      "25/25 [==============================] - 0s 13ms/step - loss: 4.8392e-04 - val_loss: 5.3377e-04\n",
      "Epoch 93/100\n",
      "25/25 [==============================] - 0s 16ms/step - loss: 5.0955e-04 - val_loss: 5.4854e-04\n",
      "Epoch 94/100\n",
      "25/25 [==============================] - 0s 15ms/step - loss: 5.2541e-04 - val_loss: 0.0011\n",
      "Epoch 95/100\n",
      "25/25 [==============================] - 0s 15ms/step - loss: 5.3196e-04 - val_loss: 0.0011\n",
      "Epoch 96/100\n",
      "25/25 [==============================] - 0s 16ms/step - loss: 6.7049e-04 - val_loss: 0.0011\n",
      "Epoch 97/100\n",
      "25/25 [==============================] - 0s 18ms/step - loss: 5.7525e-04 - val_loss: 0.0022\n",
      "Epoch 98/100\n",
      "25/25 [==============================] - 0s 18ms/step - loss: 5.3490e-04 - val_loss: 6.5281e-04\n",
      "Epoch 99/100\n",
      "25/25 [==============================] - 0s 12ms/step - loss: 4.7568e-04 - val_loss: 5.0566e-04\n",
      "Epoch 100/100\n",
      "25/25 [==============================] - 0s 11ms/step - loss: 4.5459e-04 - val_loss: 6.7933e-04\n"
     ]
    }
   ],
   "source": [
    "from keras.models import Sequential\n",
    "from keras.layers import LSTM, Dense, Dropout, AdditiveAttention, Permute, Reshape, Multiply\n",
    "\n",
    "model = Sequential()\n",
    "\n",
    "# Adding LSTM layers with return_sequences=True\n",
    "model.add(LSTM(units=50, return_sequences=True, input_shape=(X_train.shape[1], 1)))\n",
    "model.add(LSTM(units=50, return_sequences=True))\n",
    "\n",
    "# Adding self-attention mechanism\n",
    "# The attention mechanism\n",
    "attention = AdditiveAttention(name='attention_weight')\n",
    "# Permute and reshape for compatibility\n",
    "model.add(Permute((2, 1)))\n",
    "model.add(Reshape((-1, X_train.shape[1])))\n",
    "attention_result = attention([model.output, model.output])\n",
    "multiply_layer = Multiply()([model.output, attention_result])\n",
    "# Return to original shape\n",
    "model.add(Permute((2, 1)))\n",
    "model.add(Reshape((-1, 50)))\n",
    "\n",
    "# Adding a Flatten layer before the final Dense layer\n",
    "model.add(tf.keras.layers.Flatten())\n",
    "\n",
    "# Final Dense layer\n",
    "model.add(Dense(1))\n",
    "\n",
    "# Compile the model\n",
    "model.compile(optimizer='adam', loss='mean_squared_error')\n",
    "\n",
    "# Train the model\n",
    "history = model.fit(X_train, y_train, epochs=100, batch_size=25, validation_split=0.2)\n",
    "\n"
   ]
  },
  {
   "cell_type": "markdown",
   "metadata": {
    "id": "K8UHiHrx6ada"
   },
   "source": [
    "#Optimizing the Model\n",
    "To enhance the model’s performance and reduce the risk of overfitting, we include Dropout and Batch Normalization."
   ]
  },
  {
   "cell_type": "code",
   "execution_count": 14,
   "metadata": {
    "id": "cNFHFfBXfUV0"
   },
   "outputs": [],
   "source": [
    "from keras.layers import BatchNormalization\n",
    "\n",
    "# Adding Dropout and Batch Normalization\n",
    "model.add(Dropout(0.2))\n",
    "model.add(BatchNormalization())\n"
   ]
  },
  {
   "cell_type": "code",
   "execution_count": 15,
   "metadata": {
    "id": "3k49GMiVfbBg"
   },
   "outputs": [],
   "source": [
    "model.compile(optimizer='adam', loss='mean_squared_error')\n"
   ]
  },
  {
   "cell_type": "code",
   "execution_count": 16,
   "metadata": {
    "id": "gZiDl-vsfgZ8"
   },
   "outputs": [],
   "source": [
    "# Assume 'data' is your preprocessed dataset\n",
    "train_size = int(len(bbca_data) * 0.8)\n",
    "train_data, test_data = bbca_data[:train_size], bbca_data[train_size:]\n"
   ]
  },
  {
   "cell_type": "markdown",
   "metadata": {
    "id": "nzQ8iNDy6sGG"
   },
   "source": [
    "#Model Summary\n",
    "It’s beneficial to view the summary of the model to understand its structure and number of parameters."
   ]
  },
  {
   "cell_type": "code",
   "execution_count": 17,
   "metadata": {
    "colab": {
     "base_uri": "https://localhost:8080/"
    },
    "id": "frXaTYdmkn82",
    "outputId": "96961237-6538-4cc6-99d3-0494f1c11b0d"
   },
   "outputs": [
    {
     "name": "stdout",
     "output_type": "stream",
     "text": [
      "Model: \"sequential_1\"\n",
      "_________________________________________________________________\n",
      " Layer (type)                Output Shape              Param #   \n",
      "=================================================================\n",
      " lstm_3 (LSTM)               (None, 60, 50)            10400     \n",
      "                                                                 \n",
      " lstm_4 (LSTM)               (None, 60, 50)            20200     \n",
      "                                                                 \n",
      " permute (Permute)           (None, 50, 60)            0         \n",
      "                                                                 \n",
      " reshape (Reshape)           (None, 50, 60)            0         \n",
      "                                                                 \n",
      " permute_1 (Permute)         (None, 60, 50)            0         \n",
      "                                                                 \n",
      " reshape_1 (Reshape)         (None, 60, 50)            0         \n",
      "                                                                 \n",
      " flatten (Flatten)           (None, 3000)              0         \n",
      "                                                                 \n",
      " dense_1 (Dense)             (None, 1)                 3001      \n",
      "                                                                 \n",
      " dropout (Dropout)           (None, 1)                 0         \n",
      "                                                                 \n",
      " batch_normalization (Batch  (None, 1)                 4         \n",
      " Normalization)                                                  \n",
      "                                                                 \n",
      "=================================================================\n",
      "Total params: 33605 (131.27 KB)\n",
      "Trainable params: 33603 (131.26 KB)\n",
      "Non-trainable params: 2 (8.00 Byte)\n",
      "_________________________________________________________________\n"
     ]
    }
   ],
   "source": [
    "model.summary()\n"
   ]
  },
  {
   "cell_type": "markdown",
   "metadata": {
    "id": "gbdqOHWp634R"
   },
   "source": [
    "#Training the Model\n",
    "Now that our LSTM model with attention is built, it’s time to train it using our prepared training set. This process involves feeding the training data to the model and letting it learn to make predictions.\n",
    "\n",
    "Training Code\n",
    "Use the following code to train your model with X_train and y_train:"
   ]
  },
  {
   "cell_type": "code",
   "execution_count": 18,
   "metadata": {
    "colab": {
     "base_uri": "https://localhost:8080/"
    },
    "id": "BbPtB69Ukz_J",
    "outputId": "caaf7434-45cc-4ff9-d95f-88a9f38fbe9b"
   },
   "outputs": [
    {
     "name": "stdout",
     "output_type": "stream",
     "text": [
      "Epoch 1/100\n",
      "25/25 [==============================] - 6s 45ms/step - loss: 0.7258 - val_loss: 0.4055\n",
      "Epoch 2/100\n",
      "25/25 [==============================] - 0s 12ms/step - loss: 0.2687 - val_loss: 0.4301\n",
      "Epoch 3/100\n",
      "25/25 [==============================] - 0s 13ms/step - loss: 0.1631 - val_loss: 0.4357\n",
      "Epoch 4/100\n",
      "25/25 [==============================] - 0s 13ms/step - loss: 0.1254 - val_loss: 0.3999\n",
      "Epoch 5/100\n",
      "25/25 [==============================] - 0s 14ms/step - loss: 0.1192 - val_loss: 0.3879\n",
      "Epoch 6/100\n",
      "25/25 [==============================] - 0s 16ms/step - loss: 0.0968 - val_loss: 0.3296\n",
      "Epoch 7/100\n",
      "25/25 [==============================] - 0s 17ms/step - loss: 0.0808 - val_loss: 0.3049\n",
      "Epoch 8/100\n",
      "25/25 [==============================] - 0s 17ms/step - loss: 0.0667 - val_loss: 0.2935\n",
      "Epoch 9/100\n",
      "25/25 [==============================] - 1s 25ms/step - loss: 0.0591 - val_loss: 0.2551\n",
      "Epoch 10/100\n",
      "25/25 [==============================] - 1s 33ms/step - loss: 0.0496 - val_loss: 0.2390\n",
      "Epoch 11/100\n",
      "25/25 [==============================] - 1s 24ms/step - loss: 0.0443 - val_loss: 0.2269\n",
      "Epoch 12/100\n",
      "25/25 [==============================] - 0s 14ms/step - loss: 0.0368 - val_loss: 0.2176\n",
      "Epoch 13/100\n",
      "25/25 [==============================] - 0s 12ms/step - loss: 0.0337 - val_loss: 0.1840\n",
      "Epoch 14/100\n",
      "25/25 [==============================] - 0s 12ms/step - loss: 0.0277 - val_loss: 0.1829\n",
      "Epoch 15/100\n",
      "25/25 [==============================] - 0s 12ms/step - loss: 0.0240 - val_loss: 0.1774\n",
      "Epoch 16/100\n",
      "25/25 [==============================] - 0s 12ms/step - loss: 0.0202 - val_loss: 0.1189\n",
      "Epoch 17/100\n",
      "25/25 [==============================] - 0s 12ms/step - loss: 0.0178 - val_loss: 0.1144\n",
      "Epoch 18/100\n",
      "25/25 [==============================] - 0s 12ms/step - loss: 0.0157 - val_loss: 0.0976\n",
      "Epoch 19/100\n",
      "25/25 [==============================] - 0s 14ms/step - loss: 0.0152 - val_loss: 0.1102\n",
      "Epoch 20/100\n",
      "25/25 [==============================] - 0s 12ms/step - loss: 0.0132 - val_loss: 0.0951\n",
      "Epoch 21/100\n",
      "25/25 [==============================] - 0s 12ms/step - loss: 0.0098 - val_loss: 0.0866\n",
      "Epoch 22/100\n",
      "25/25 [==============================] - 0s 14ms/step - loss: 0.0108 - val_loss: 0.0873\n",
      "Epoch 23/100\n",
      "25/25 [==============================] - 0s 12ms/step - loss: 0.0081 - val_loss: 0.0623\n",
      "Epoch 24/100\n",
      "25/25 [==============================] - 0s 12ms/step - loss: 0.0082 - val_loss: 0.0425\n",
      "Epoch 25/100\n",
      "25/25 [==============================] - 0s 13ms/step - loss: 0.0088 - val_loss: 0.0363\n",
      "Epoch 26/100\n",
      "25/25 [==============================] - 0s 12ms/step - loss: 0.0075 - val_loss: 0.0563\n",
      "Epoch 27/100\n",
      "25/25 [==============================] - 0s 12ms/step - loss: 0.0072 - val_loss: 0.0319\n",
      "Epoch 28/100\n",
      "25/25 [==============================] - 0s 14ms/step - loss: 0.0060 - val_loss: 0.0124\n",
      "Epoch 29/100\n",
      "25/25 [==============================] - 0s 14ms/step - loss: 0.0067 - val_loss: 0.0516\n",
      "Epoch 30/100\n",
      "25/25 [==============================] - 0s 12ms/step - loss: 0.0079 - val_loss: 0.0105\n",
      "Epoch 31/100\n",
      "25/25 [==============================] - 0s 12ms/step - loss: 0.0062 - val_loss: 0.0095\n",
      "Epoch 32/100\n",
      "25/25 [==============================] - 0s 13ms/step - loss: 0.0076 - val_loss: 0.0212\n",
      "Epoch 33/100\n",
      "25/25 [==============================] - 0s 13ms/step - loss: 0.0058 - val_loss: 0.0097\n",
      "Epoch 34/100\n",
      "25/25 [==============================] - 0s 13ms/step - loss: 0.0070 - val_loss: 0.0104\n",
      "Epoch 35/100\n",
      "25/25 [==============================] - 0s 14ms/step - loss: 0.0070 - val_loss: 0.0148\n",
      "Epoch 36/100\n",
      "25/25 [==============================] - 0s 12ms/step - loss: 0.0067 - val_loss: 6.7371e-04\n",
      "Epoch 37/100\n",
      "25/25 [==============================] - 0s 12ms/step - loss: 0.0057 - val_loss: 0.0145\n",
      "Epoch 38/100\n",
      "25/25 [==============================] - 0s 14ms/step - loss: 0.0058 - val_loss: 0.0028\n",
      "Epoch 39/100\n",
      "25/25 [==============================] - 0s 12ms/step - loss: 0.0067 - val_loss: 0.0100\n",
      "Epoch 40/100\n",
      "25/25 [==============================] - 0s 13ms/step - loss: 0.0051 - val_loss: 0.0015\n",
      "Epoch 41/100\n",
      "25/25 [==============================] - 0s 17ms/step - loss: 0.0048 - val_loss: 0.0104\n",
      "Epoch 42/100\n",
      "25/25 [==============================] - 0s 18ms/step - loss: 0.0067 - val_loss: 0.0027\n",
      "Epoch 43/100\n",
      "25/25 [==============================] - 0s 17ms/step - loss: 0.0062 - val_loss: 0.0407\n",
      "Epoch 44/100\n",
      "25/25 [==============================] - 0s 17ms/step - loss: 0.0070 - val_loss: 6.3171e-04\n",
      "Epoch 45/100\n",
      "25/25 [==============================] - 0s 18ms/step - loss: 0.0059 - val_loss: 0.0015\n",
      "Epoch 46/100\n",
      "25/25 [==============================] - 0s 19ms/step - loss: 0.0073 - val_loss: 0.0024\n",
      "Epoch 47/100\n",
      "25/25 [==============================] - 0s 14ms/step - loss: 0.0056 - val_loss: 0.0080\n",
      "Epoch 48/100\n",
      "25/25 [==============================] - 0s 12ms/step - loss: 0.0064 - val_loss: 5.1641e-04\n",
      "Epoch 49/100\n",
      "25/25 [==============================] - 0s 19ms/step - loss: 0.0066 - val_loss: 0.0064\n",
      "Epoch 50/100\n",
      "25/25 [==============================] - 0s 15ms/step - loss: 0.0064 - val_loss: 0.0041\n",
      "Epoch 51/100\n",
      "25/25 [==============================] - 0s 18ms/step - loss: 0.0059 - val_loss: 0.0125\n",
      "Epoch 52/100\n",
      "25/25 [==============================] - 1s 20ms/step - loss: 0.0065 - val_loss: 0.0071\n",
      "Epoch 53/100\n",
      "25/25 [==============================] - 1s 20ms/step - loss: 0.0053 - val_loss: 0.0128\n",
      "Epoch 54/100\n",
      "25/25 [==============================] - 0s 19ms/step - loss: 0.0066 - val_loss: 0.0073\n",
      "Epoch 55/100\n",
      "25/25 [==============================] - 0s 17ms/step - loss: 0.0055 - val_loss: 0.0022\n",
      "Epoch 56/100\n",
      "25/25 [==============================] - 0s 12ms/step - loss: 0.0061 - val_loss: 0.0078\n",
      "Epoch 57/100\n",
      "25/25 [==============================] - 0s 11ms/step - loss: 0.0054 - val_loss: 0.0085\n",
      "Epoch 58/100\n",
      "25/25 [==============================] - 0s 12ms/step - loss: 0.0056 - val_loss: 0.0023\n",
      "Epoch 59/100\n",
      "25/25 [==============================] - 0s 12ms/step - loss: 0.0053 - val_loss: 0.0071\n",
      "Epoch 60/100\n",
      "25/25 [==============================] - 0s 12ms/step - loss: 0.0053 - val_loss: 0.0077\n",
      "Epoch 61/100\n",
      "25/25 [==============================] - 0s 12ms/step - loss: 0.0055 - val_loss: 0.0052\n",
      "Epoch 62/100\n",
      "25/25 [==============================] - 0s 13ms/step - loss: 0.0055 - val_loss: 0.0045\n",
      "Epoch 63/100\n",
      "25/25 [==============================] - 0s 12ms/step - loss: 0.0056 - val_loss: 0.0090\n",
      "Epoch 64/100\n",
      "25/25 [==============================] - 0s 12ms/step - loss: 0.0067 - val_loss: 0.0012\n",
      "Epoch 65/100\n",
      "25/25 [==============================] - 0s 19ms/step - loss: 0.0058 - val_loss: 0.0030\n",
      "Epoch 66/100\n",
      "25/25 [==============================] - 1s 20ms/step - loss: 0.0070 - val_loss: 0.0038\n",
      "Epoch 67/100\n",
      "25/25 [==============================] - 1s 20ms/step - loss: 0.0059 - val_loss: 7.2419e-04\n",
      "Epoch 68/100\n",
      "25/25 [==============================] - 0s 20ms/step - loss: 0.0054 - val_loss: 0.0063\n",
      "Epoch 69/100\n",
      "25/25 [==============================] - 0s 16ms/step - loss: 0.0061 - val_loss: 0.0017\n",
      "Epoch 70/100\n",
      "25/25 [==============================] - 0s 14ms/step - loss: 0.0063 - val_loss: 0.0301\n",
      "Epoch 71/100\n",
      "25/25 [==============================] - 0s 12ms/step - loss: 0.0056 - val_loss: 4.2389e-04\n",
      "Epoch 72/100\n",
      "25/25 [==============================] - 0s 13ms/step - loss: 0.0067 - val_loss: 0.0012\n",
      "Epoch 73/100\n",
      "25/25 [==============================] - 0s 17ms/step - loss: 0.0060 - val_loss: 0.0043\n",
      "Epoch 74/100\n",
      "25/25 [==============================] - 0s 16ms/step - loss: 0.0064 - val_loss: 0.0026\n",
      "Epoch 75/100\n",
      "25/25 [==============================] - 0s 16ms/step - loss: 0.0064 - val_loss: 4.6930e-04\n",
      "Epoch 76/100\n",
      "25/25 [==============================] - 0s 17ms/step - loss: 0.0048 - val_loss: 0.0064\n",
      "Epoch 77/100\n",
      "25/25 [==============================] - 0s 18ms/step - loss: 0.0054 - val_loss: 0.0020\n",
      "Epoch 78/100\n",
      "25/25 [==============================] - 0s 18ms/step - loss: 0.0059 - val_loss: 0.0133\n",
      "Epoch 79/100\n",
      "25/25 [==============================] - 0s 12ms/step - loss: 0.0062 - val_loss: 4.4502e-04\n",
      "Epoch 80/100\n",
      "25/25 [==============================] - 0s 14ms/step - loss: 0.0054 - val_loss: 5.6869e-04\n",
      "Epoch 81/100\n",
      "25/25 [==============================] - 0s 12ms/step - loss: 0.0056 - val_loss: 0.0186\n",
      "Epoch 82/100\n",
      "25/25 [==============================] - 0s 12ms/step - loss: 0.0058 - val_loss: 0.0044\n",
      "Epoch 83/100\n",
      "25/25 [==============================] - 0s 12ms/step - loss: 0.0055 - val_loss: 5.7034e-04\n",
      "Epoch 84/100\n",
      "25/25 [==============================] - 0s 12ms/step - loss: 0.0054 - val_loss: 0.0016\n",
      "Epoch 85/100\n",
      "25/25 [==============================] - 0s 12ms/step - loss: 0.0057 - val_loss: 0.0016\n",
      "Epoch 86/100\n",
      "25/25 [==============================] - 0s 14ms/step - loss: 0.0041 - val_loss: 3.9432e-04\n",
      "Epoch 87/100\n",
      "25/25 [==============================] - 0s 14ms/step - loss: 0.0071 - val_loss: 0.0187\n",
      "Epoch 88/100\n",
      "25/25 [==============================] - 0s 12ms/step - loss: 0.0053 - val_loss: 0.0040\n",
      "Epoch 89/100\n",
      "25/25 [==============================] - 0s 12ms/step - loss: 0.0053 - val_loss: 0.0094\n",
      "Epoch 90/100\n",
      "25/25 [==============================] - 0s 12ms/step - loss: 0.0047 - val_loss: 0.0079\n",
      "Epoch 91/100\n",
      "25/25 [==============================] - 0s 12ms/step - loss: 0.0049 - val_loss: 0.0017\n",
      "Epoch 92/100\n",
      "25/25 [==============================] - 0s 12ms/step - loss: 0.0060 - val_loss: 0.0013\n",
      "Epoch 93/100\n",
      "25/25 [==============================] - 0s 12ms/step - loss: 0.0069 - val_loss: 8.2784e-04\n",
      "Epoch 94/100\n",
      "25/25 [==============================] - 0s 12ms/step - loss: 0.0054 - val_loss: 0.0097\n",
      "Epoch 95/100\n",
      "25/25 [==============================] - 0s 14ms/step - loss: 0.0059 - val_loss: 4.1678e-04\n",
      "Epoch 96/100\n",
      "25/25 [==============================] - 0s 13ms/step - loss: 0.0058 - val_loss: 0.0041\n",
      "Epoch 97/100\n",
      "25/25 [==============================] - 0s 12ms/step - loss: 0.0049 - val_loss: 0.0064\n",
      "Epoch 98/100\n",
      "25/25 [==============================] - 0s 12ms/step - loss: 0.0061 - val_loss: 0.0399\n",
      "Epoch 99/100\n",
      "25/25 [==============================] - 0s 11ms/step - loss: 0.0074 - val_loss: 0.0193\n",
      "Epoch 100/100\n",
      "25/25 [==============================] - 0s 13ms/step - loss: 0.0052 - val_loss: 0.0033\n"
     ]
    }
   ],
   "source": [
    "# Assuming X_train and y_train are already defined and preprocessed\n",
    "history = model.fit(X_train, y_train, epochs=100, batch_size=25, validation_split=0.2)\n"
   ]
  },
  {
   "cell_type": "markdown",
   "metadata": {
    "id": "XcBH1cW67BVa"
   },
   "source": [
    "#Overfitting and How to Avoid It\n",
    "Overfitting occurs when a model learns patterns specific to the training data, which do not generalize to new data. Here are ways to avoid overfitting:\n",
    "\n",
    "##Validation Set:\n",
    "Using a validation set (as we did in the training code) helps in monitoring the model’s performance on unseen data.\n",
    "##Early Stopping:\n",
    "This technique stops training when the model’s performance on the validation set starts to degrade. Implementing early stopping in Keras is straightforward:"
   ]
  },
  {
   "cell_type": "code",
   "execution_count": 19,
   "metadata": {
    "colab": {
     "base_uri": "https://localhost:8080/"
    },
    "id": "2Usi7IDzsBt1",
    "outputId": "355bdb59-6d95-4b6b-c0c3-51a2afc7ed94"
   },
   "outputs": [
    {
     "name": "stdout",
     "output_type": "stream",
     "text": [
      "Epoch 1/100\n",
      "25/25 [==============================] - 0s 16ms/step - loss: 0.0054 - val_loss: 0.0092\n",
      "Epoch 2/100\n",
      "25/25 [==============================] - 0s 12ms/step - loss: 0.0069 - val_loss: 7.2040e-04\n",
      "Epoch 3/100\n",
      "25/25 [==============================] - 0s 12ms/step - loss: 0.0048 - val_loss: 0.0056\n",
      "Epoch 4/100\n",
      "25/25 [==============================] - 0s 18ms/step - loss: 0.0061 - val_loss: 0.0013\n",
      "Epoch 5/100\n",
      "25/25 [==============================] - 0s 17ms/step - loss: 0.0066 - val_loss: 0.0018\n",
      "Epoch 6/100\n",
      "25/25 [==============================] - 0s 16ms/step - loss: 0.0058 - val_loss: 0.0075\n",
      "Epoch 7/100\n",
      "25/25 [==============================] - 0s 15ms/step - loss: 0.0050 - val_loss: 0.0014\n",
      "Epoch 8/100\n",
      "25/25 [==============================] - 0s 16ms/step - loss: 0.0068 - val_loss: 0.0043\n",
      "Epoch 9/100\n",
      "25/25 [==============================] - 0s 19ms/step - loss: 0.0068 - val_loss: 0.0050\n",
      "Epoch 10/100\n",
      "25/25 [==============================] - 0s 14ms/step - loss: 0.0054 - val_loss: 0.0309\n",
      "Epoch 11/100\n",
      "25/25 [==============================] - 0s 13ms/step - loss: 0.0056 - val_loss: 0.0209\n",
      "Epoch 12/100\n",
      "25/25 [==============================] - 0s 12ms/step - loss: 0.0062 - val_loss: 0.0013\n"
     ]
    }
   ],
   "source": [
    "from keras.callbacks import EarlyStopping\n",
    "\n",
    "early_stopping = EarlyStopping(monitor='val_loss', patience=10)\n",
    "history = model.fit(X_train, y_train, epochs=100, batch_size=25, validation_split=0.2, callbacks=[early_stopping])"
   ]
  },
  {
   "cell_type": "markdown",
   "metadata": {
    "id": "ZUwVZiON7fKq"
   },
   "source": [
    "Here, patience=10 means training will stop if the validation loss does not improve for 10 consecutive epochs.\n",
    "\n",
    "Regularization Techniques: Techniques like Dropout and Batch Normalization, which are already included in our model, also help in reducing overfitting.\n",
    "Optional: These are more callbacks"
   ]
  },
  {
   "cell_type": "code",
   "execution_count": 20,
   "metadata": {
    "colab": {
     "base_uri": "https://localhost:8080/"
    },
    "id": "Fyf-0m6Ysc8w",
    "outputId": "c92e0c89-7c75-4b69-cde5-acd3ce0de45e"
   },
   "outputs": [
    {
     "name": "stdout",
     "output_type": "stream",
     "text": [
      "Epoch 1/100\n",
      "25/25 [==============================] - 1s 46ms/step - loss: 0.0061 - val_loss: 3.8724e-04 - lr: 0.0010\n",
      "Epoch 2/100\n",
      " 1/25 [>.............................] - ETA: 0s - loss: 0.0070"
     ]
    },
    {
     "name": "stderr",
     "output_type": "stream",
     "text": [
      "/usr/local/lib/python3.10/dist-packages/keras/src/engine/training.py:3103: UserWarning: You are saving your model as an HDF5 file via `model.save()`. This file format is considered legacy. We recommend using instead the native Keras format, e.g. `model.save('my_model.keras')`.\n",
      "  saving_api.save_model(\n"
     ]
    },
    {
     "name": "stdout",
     "output_type": "stream",
     "text": [
      "25/25 [==============================] - 1s 25ms/step - loss: 0.0061 - val_loss: 0.0336 - lr: 0.0010\n",
      "Epoch 3/100\n",
      "25/25 [==============================] - 1s 25ms/step - loss: 0.0080 - val_loss: 0.0559 - lr: 0.0010\n",
      "Epoch 4/100\n",
      "25/25 [==============================] - 1s 25ms/step - loss: 0.0066 - val_loss: 0.0012 - lr: 0.0010\n",
      "Epoch 5/100\n",
      "25/25 [==============================] - 0s 19ms/step - loss: 0.0062 - val_loss: 0.0136 - lr: 0.0010\n",
      "Epoch 6/100\n",
      "25/25 [==============================] - 0s 15ms/step - loss: 0.0053 - val_loss: 0.0017 - lr: 0.0010\n",
      "Epoch 7/100\n",
      "25/25 [==============================] - 0s 14ms/step - loss: 0.0050 - val_loss: 0.0052 - lr: 1.0000e-04\n",
      "Epoch 8/100\n",
      "25/25 [==============================] - 0s 14ms/step - loss: 0.0050 - val_loss: 0.0080 - lr: 1.0000e-04\n",
      "Epoch 9/100\n",
      "25/25 [==============================] - 1s 24ms/step - loss: 0.0059 - val_loss: 0.0042 - lr: 1.0000e-04\n",
      "Epoch 10/100\n",
      "25/25 [==============================] - 0s 20ms/step - loss: 0.0045 - val_loss: 0.0031 - lr: 1.0000e-04\n",
      "Epoch 11/100\n",
      "25/25 [==============================] - 1s 23ms/step - loss: 0.0059 - val_loss: 0.0043 - lr: 1.0000e-04\n"
     ]
    }
   ],
   "source": [
    "from keras.callbacks import ModelCheckpoint, ReduceLROnPlateau, TensorBoard, CSVLogger\n",
    "\n",
    "# Callback to save the model periodically\n",
    "model_checkpoint = ModelCheckpoint('best_model.h5', save_best_only=True, monitor='val_loss')\n",
    "\n",
    "# Callback to reduce learning rate when a metric has stopped improving\n",
    "reduce_lr = ReduceLROnPlateau(monitor='val_loss', factor=0.1, patience=5)\n",
    "\n",
    "# Callback for TensorBoard\n",
    "tensorboard = TensorBoard(log_dir='./logs')\n",
    "\n",
    "# Callback to log details to a CSV file\n",
    "csv_logger = CSVLogger('training_log.csv')\n",
    "\n",
    "# Combining all callbacks\n",
    "callbacks_list = [early_stopping, model_checkpoint, reduce_lr, tensorboard, csv_logger]\n",
    "\n",
    "# Fit the model with the callbacks\n",
    "history = model.fit(X_train, y_train, epochs=100, batch_size=25, validation_split=0.2, callbacks=callbacks_list)\n"
   ]
  },
  {
   "cell_type": "markdown",
   "metadata": {
    "id": "0h28EHeu7lmH"
   },
   "source": [
    "#Evaluating Model Performance\n",
    "After training the model, the next step is to evaluate its performance using the test set. This will give us an understanding of how well our model can generalize to new, unseen data.\n",
    "\n",
    "Evaluating with the Test Set\n",
    "To evaluate the model, we first need to prepare our test data (X_test) in the same way we did for the training data. Then, we can use the model's evaluate function:"
   ]
  },
  {
   "cell_type": "code",
   "execution_count": 21,
   "metadata": {
    "colab": {
     "base_uri": "https://localhost:8080/"
    },
    "id": "hh5F2eRVufDz",
    "outputId": "32eac74f-17e1-48d0-ff9b-2a488658315c"
   },
   "outputs": [
    {
     "name": "stdout",
     "output_type": "stream",
     "text": [
      "7/7 [==============================] - 0s 6ms/step - loss: 0.0068\n",
      "Test Loss:  0.006755087524652481\n"
     ]
    }
   ],
   "source": [
    "# Convert X_test and y_test to Numpy arrays if they are not already\n",
    "X_test = np.array(X_test)\n",
    "y_test = np.array(y_test)\n",
    "\n",
    "# Ensure X_test is reshaped similarly to how X_train was reshaped\n",
    "# This depends on how you preprocessed the training data\n",
    "X_test = np.reshape(X_test, (X_test.shape[0], X_test.shape[1], 1))\n",
    "\n",
    "# Now evaluate the model on the test data\n",
    "test_loss = model.evaluate(X_test, y_test)\n",
    "print(\"Test Loss: \", test_loss)\n",
    "\n"
   ]
  },
  {
   "cell_type": "markdown",
   "metadata": {
    "id": "Lq9iYgLf7vP1"
   },
   "source": [
    "#Performance Metrics\n",
    "In addition to the loss, other metrics can provide more insights into the model’s performance. For regression tasks like ours, common metrics include:\n",
    "\n",
    "Mean Absolute Error (MAE): This measures the average magnitude of the errors in a set of predictions, without considering their direction.\n",
    "Root Mean Square Error (RMSE): This is the square root of the average of squared differences between prediction and actual observation.\n",
    "To calculate these metrics, we can make predictions using our model and compare them with the actual values:"
   ]
  },
  {
   "cell_type": "code",
   "execution_count": 22,
   "metadata": {
    "colab": {
     "base_uri": "https://localhost:8080/"
    },
    "id": "4dUI9KYQvEpw",
    "outputId": "5642a671-1d0a-4051-d463-6b60fed4bc48"
   },
   "outputs": [
    {
     "name": "stdout",
     "output_type": "stream",
     "text": [
      "7/7 [==============================] - 1s 5ms/step\n",
      "Mean Absolute Error:  0.07944180669685669\n",
      "Root Mean Square Error:  0.08218934043878573\n"
     ]
    }
   ],
   "source": [
    "from sklearn.metrics import mean_absolute_error, mean_squared_error\n",
    "\n",
    "# Making predictions\n",
    "y_pred = model.predict(X_test)\n",
    "\n",
    "# Calculating MAE and RMSE\n",
    "mae = mean_absolute_error(y_test, y_pred)\n",
    "rmse = mean_squared_error(y_test, y_pred, squared=False)\n",
    "\n",
    "print(\"Mean Absolute Error: \", mae)\n",
    "print(\"Root Mean Square Error: \", rmse)\n"
   ]
  },
  {
   "cell_type": "markdown",
   "metadata": {
    "id": "n5EwP1c48W0-"
   },
   "source": [
    "#Predicting the Next 4 Candles\n",
    "Having trained and evaluated our LSTM model with an attention mechanism, the final step is to utilize it for predicting the next 4 candles (days) of AAPL stock prices.\n",
    "\n",
    "Making Predictions\n",
    "To predict future stock prices, we need to provide the model with the most recent data points. Let’s assume we have the latest 60 days of data prepared in the same format as X_train: and we want to predict the price for the next day:"
   ]
  },
  {
   "cell_type": "code",
   "execution_count": 23,
   "metadata": {
    "colab": {
     "base_uri": "https://localhost:8080/"
    },
    "id": "QIcCt2inxcE0",
    "outputId": "8b6548e2-1b0e-475b-f7d7-b3a7f86c414a"
   },
   "outputs": [
    {
     "name": "stderr",
     "output_type": "stream",
     "text": [
      "\r",
      "[*********************100%%**********************]  1 of 1 completed"
     ]
    },
    {
     "name": "stdout",
     "output_type": "stream",
     "text": [
      "1/1 [==============================] - 0s 23ms/step\n",
      "Predicted Stock Prices for the next 4 days:  [[9805.803]]\n"
     ]
    },
    {
     "name": "stderr",
     "output_type": "stream",
     "text": [
      "\n"
     ]
    }
   ],
   "source": [
    "import yfinance as yf\n",
    "import numpy as np\n",
    "from sklearn.preprocessing import MinMaxScaler\n",
    "\n",
    "# Fetching the latest 60 days of AAPL stock data\n",
    "data = yf.download('BBCA.JK', period='60d', interval='1d')\n",
    "\n",
    "# Selecting the 'Close' price and converting to numpy array\n",
    "closing_prices = data['Close'].values\n",
    "\n",
    "# Scaling the data\n",
    "scaler = MinMaxScaler(feature_range=(0,1))\n",
    "scaled_data = scaler.fit_transform(closing_prices.reshape(-1,1))\n",
    "\n",
    "# Since we need the last 60 days to predict the next day, we reshape the data accordingly\n",
    "X_latest = np.array([scaled_data[-60:].reshape(60)])\n",
    "\n",
    "# Reshaping the data for the model (adding batch dimension)\n",
    "X_latest = np.reshape(X_latest, (X_latest.shape[0], X_latest.shape[1], 1))\n",
    "\n",
    "# Making predictions for the next 4 candles\n",
    "predicted_stock_price = model.predict(X_latest)\n",
    "predicted_stock_price = scaler.inverse_transform(predicted_stock_price)\n",
    "\n",
    "print(\"Predicted Stock Prices for the next 4 days: \", predicted_stock_price)\n"
   ]
  },
  {
   "cell_type": "markdown",
   "metadata": {
    "id": "xuPHrnt38dzn"
   },
   "source": [
    "Let’s predict the price for the next 4 days:"
   ]
  },
  {
   "cell_type": "code",
   "execution_count": 24,
   "metadata": {
    "colab": {
     "base_uri": "https://localhost:8080/"
    },
    "id": "WZjCPwjMyHep",
    "outputId": "70097e97-da2f-474b-fbf7-53271c7b19b5"
   },
   "outputs": [
    {
     "name": "stderr",
     "output_type": "stream",
     "text": [
      "\r",
      "[*********************100%%**********************]  1 of 1 completed"
     ]
    },
    {
     "name": "stdout",
     "output_type": "stream",
     "text": [
      "1/1 [==============================] - 0s 20ms/step\n",
      "1/1 [==============================] - 0s 22ms/step\n"
     ]
    },
    {
     "name": "stderr",
     "output_type": "stream",
     "text": [
      "\n"
     ]
    },
    {
     "name": "stdout",
     "output_type": "stream",
     "text": [
      "1/1 [==============================] - 0s 23ms/step\n",
      "1/1 [==============================] - 0s 20ms/step\n",
      "Predicted Stock Prices for the next 4 days:  [9805.803, 9778.7295, 9762.877, 9746.787]\n"
     ]
    }
   ],
   "source": [
    "import yfinance as yf\n",
    "import numpy as np\n",
    "from sklearn.preprocessing import MinMaxScaler\n",
    "\n",
    "# Fetch the latest 60 days of AAPL stock data\n",
    "data = yf.download('BBCA.JK', period='60d', interval='1d')\n",
    "\n",
    "# Select 'Close' price and scale it\n",
    "closing_prices = data['Close'].values.reshape(-1, 1)\n",
    "scaler = MinMaxScaler(feature_range=(0, 1))\n",
    "scaled_data = scaler.fit_transform(closing_prices)\n",
    "\n",
    "# Predict the next 4 days iteratively\n",
    "predicted_prices = []\n",
    "current_batch = scaled_data[-60:].reshape(1, 60, 1)  # Most recent 60 days\n",
    "\n",
    "for i in range(4):  # Predicting 4 days\n",
    "    # Get the prediction (next day)\n",
    "    next_prediction = model.predict(current_batch)\n",
    "\n",
    "    # Reshape the prediction to fit the batch dimension\n",
    "    next_prediction_reshaped = next_prediction.reshape(1, 1, 1)\n",
    "\n",
    "    # Append the prediction to the batch used for predicting\n",
    "    current_batch = np.append(current_batch[:, 1:, :], next_prediction_reshaped, axis=1)\n",
    "\n",
    "    # Inverse transform the prediction to the original price scale\n",
    "    predicted_prices.append(scaler.inverse_transform(next_prediction)[0, 0])\n",
    "\n",
    "print(\"Predicted Stock Prices for the next 4 days: \", predicted_prices)\n"
   ]
  },
  {
   "cell_type": "code",
   "execution_count": 25,
   "metadata": {
    "colab": {
     "base_uri": "https://localhost:8080/"
    },
    "id": "L1Y0NoQAy8pC",
    "outputId": "e7f9d9c7-3700-48cd-f907-7370260f7979"
   },
   "outputs": [
    {
     "name": "stdout",
     "output_type": "stream",
     "text": [
      "\u001b[?25l     \u001b[90m━━━━━━━━━━━━━━━━━━━━━━━━━━━━━━━━━━━━━━━━\u001b[0m \u001b[32m0.0/75.0 kB\u001b[0m \u001b[31m?\u001b[0m eta \u001b[36m-:--:--\u001b[0m\r",
      "\u001b[2K     \u001b[90m━━━━━━━━━━━━━━━━━━━━━━━━━━━━━━━━━━━━━━━━\u001b[0m \u001b[32m75.0/75.0 kB\u001b[0m \u001b[31m2.7 MB/s\u001b[0m eta \u001b[36m0:00:00\u001b[0m\n",
      "\u001b[?25h"
     ]
    }
   ],
   "source": [
    "!pip install mplfinance -qqq"
   ]
  },
  {
   "cell_type": "markdown",
   "metadata": {
    "id": "cmT3H58R8l9F"
   },
   "source": [
    "#Visualization of Predictions\n",
    "Comparing the predicted values with actual stock prices visually can be very insightful. Below is the code to plot the predicted stock prices against the actual data:"
   ]
  },
  {
   "cell_type": "code",
   "execution_count": 26,
   "metadata": {
    "colab": {
     "base_uri": "https://localhost:8080/",
     "height": 1000
    },
    "id": "zSMTOnPBy-GF",
    "outputId": "c86f521c-17da-4ca6-be8d-eee5a8ebdd03"
   },
   "outputs": [
    {
     "data": {
      "image/png": "[encoded data removed]",
      "text/plain": [
       "<Figure size 800x575 with 4 Axes>"
      ]
     },
     "metadata": {},
     "output_type": "display_data"
    },
    {
     "data": {
      "image/png": "[encoded data removed]",
      "text/plain": [
       "<Figure size 1000x600 with 1 Axes>"
      ]
     },
     "metadata": {},
     "output_type": "display_data"
    }
   ],
   "source": [
    "import pandas as pd\n",
    "import mplfinance as mpf\n",
    "import matplotlib.dates as mpl_dates\n",
    "import matplotlib.pyplot as plt\n",
    "\n",
    "# Assuming 'data' is your DataFrame with the fetched AAPL stock data\n",
    "# Make sure it contains Open, High, Low, Close, and Volume columns\n",
    "\n",
    "# Creating a list of dates for the predictions\n",
    "last_date = data.index[-1]\n",
    "next_day = last_date + pd.Timedelta(days=1)\n",
    "prediction_dates = pd.date_range(start=next_day, periods=4)\n",
    "\n",
    "# Assuming 'predicted_prices' is your list of predicted prices for the next 4 days\n",
    "predictions_df = pd.DataFrame(index=prediction_dates, data=predicted_prices, columns=['Close'])\n",
    "\n",
    "# Plotting the actual data with mplfinance\n",
    "mpf.plot(data, type='candle', style='charles', volume=True)\n",
    "\n",
    "# Overlaying the predicted data\n",
    "plt.figure(figsize=(10,6))\n",
    "plt.plot(predictions_df.index, predictions_df['Close'], linestyle='dashed', marker='o', color='red')\n",
    "\n",
    "plt.title(\"BBCA Stock Price with Predicted Next 4 Days\")\n",
    "plt.show()\n",
    "\n"
   ]
  },
  {
   "cell_type": "code",
   "execution_count": 27,
   "metadata": {
    "colab": {
     "base_uri": "https://localhost:8080/",
     "height": 632
    },
    "id": "M8ef1hgmz9Va",
    "outputId": "e95ff180-8833-4fc3-a493-0fe5de9d070c"
   },
   "outputs": [
    {
     "name": "stderr",
     "output_type": "stream",
     "text": [
      "\r",
      "[*********************100%%**********************]  1 of 1 completed"
     ]
    },
    {
     "name": "stdout",
     "output_type": "stream",
     "text": [
      "1/1 [==============================] - 0s 22ms/step\n",
      "1/1 [==============================] - 0s 21ms/step\n"
     ]
    },
    {
     "name": "stderr",
     "output_type": "stream",
     "text": [
      "\n"
     ]
    },
    {
     "name": "stdout",
     "output_type": "stream",
     "text": [
      "1/1 [==============================] - 0s 26ms/step\n",
      "1/1 [==============================] - 0s 21ms/step\n"
     ]
    },
    {
     "data": {
      "image/png": "[encoded data removed]",
      "text/plain": [
       "<Figure size 1000x600 with 1 Axes>"
      ]
     },
     "metadata": {},
     "output_type": "display_data"
    }
   ],
   "source": [
    "import pandas as pd\n",
    "import mplfinance as mpf\n",
    "import matplotlib.dates as mpl_dates\n",
    "import matplotlib.pyplot as plt\n",
    "\n",
    "# Fetch the latest 60 days of AAPL stock data\n",
    "data = yf.download('BBCA.JK', period='64d', interval='1d') # Fetch 64 days to display last 60 days in the chart\n",
    "\n",
    "# Select 'Close' price and scale it\n",
    "closing_prices = data['Close'].values.reshape(-1, 1)\n",
    "scaler = MinMaxScaler(feature_range=(0, 1))\n",
    "scaled_data = scaler.fit_transform(closing_prices)\n",
    "\n",
    "# Predict the next 4 days iteratively\n",
    "predicted_prices = []\n",
    "current_batch = scaled_data[-60:].reshape(1, 60, 1)  # Most recent 60 days\n",
    "\n",
    "for i in range(4):  # Predicting 4 days\n",
    "    next_prediction = model.predict(current_batch)\n",
    "    next_prediction_reshaped = next_prediction.reshape(1, 1, 1)\n",
    "    current_batch = np.append(current_batch[:, 1:, :], next_prediction_reshaped, axis=1)\n",
    "    predicted_prices.append(scaler.inverse_transform(next_prediction)[0, 0])\n",
    "\n",
    "# Creating a list of dates for the predictions\n",
    "last_date = data.index[-1]\n",
    "next_day = last_date + pd.Timedelta(days=1)\n",
    "prediction_dates = pd.date_range(start=next_day, periods=4)\n",
    "\n",
    "# Adding predictions to the DataFrame\n",
    "predicted_data = pd.DataFrame(index=prediction_dates, data=predicted_prices, columns=['Close'])\n",
    "\n",
    "# Combining both actual and predicted data\n",
    "combined_data = pd.concat([data['Close'], predicted_data['Close']])\n",
    "combined_data = combined_data[-64:] # Last 60 days of actual data + 4 days of predictions\n",
    "\n",
    "# Plotting the data\n",
    "plt.figure(figsize=(10,6))\n",
    "plt.plot(combined_data, linestyle='-', marker='o', color='blue')\n",
    "plt.title(\"BBCA Stock Price: Last 60 Days and Next 4 Days Predicted\")\n",
    "plt.show()\n"
   ]
  },
  {
   "cell_type": "markdown",
   "metadata": {
    "id": "nXt9osXt9I3d"
   },
   "source": [
    "#Final Visual for Predictions:"
   ]
  },
  {
   "cell_type": "code",
   "execution_count": 28,
   "metadata": {
    "colab": {
     "base_uri": "https://localhost:8080/",
     "height": 655
    },
    "id": "Vla8lKTp0NPE",
    "outputId": "148b2288-d50c-4ca5-8a88-05f9688217fc"
   },
   "outputs": [
    {
     "name": "stderr",
     "output_type": "stream",
     "text": [
      "\r",
      "[*********************100%%**********************]  1 of 1 completed"
     ]
    },
    {
     "name": "stdout",
     "output_type": "stream",
     "text": [
      "1/1 [==============================] - 0s 21ms/step\n",
      "1/1 [==============================] - 0s 21ms/step\n"
     ]
    },
    {
     "name": "stderr",
     "output_type": "stream",
     "text": [
      "\n"
     ]
    },
    {
     "name": "stdout",
     "output_type": "stream",
     "text": [
      "1/1 [==============================] - 0s 22ms/step\n",
      "1/1 [==============================] - 0s 22ms/step\n"
     ]
    },
    {
     "data": {
      "image/png": "[encoded data removed]",
      "text/plain": [
       "<Figure size 1000x600 with 1 Axes>"
      ]
     },
     "metadata": {},
     "output_type": "display_data"
    }
   ],
   "source": [
    "import pandas as pd\n",
    "import mplfinance as mpf\n",
    "import matplotlib.dates as mpl_dates\n",
    "import matplotlib.pyplot as plt\n",
    "\n",
    "# Fetch the latest 60 days of AAPL stock data\n",
    "data = yf.download('BBCA.JK', period='64d', interval='1d') # Fetch 64 days to display last 60 days in the chart\n",
    "\n",
    "# Select 'Close' price and scale it\n",
    "closing_prices = data['Close'].values.reshape(-1, 1)\n",
    "scaler = MinMaxScaler(feature_range=(0, 1))\n",
    "scaled_data = scaler.fit_transform(closing_prices)\n",
    "\n",
    "# Predict the next 4 days iteratively\n",
    "predicted_prices = []\n",
    "current_batch = scaled_data[-60:].reshape(1, 60, 1)  # Most recent 60 days\n",
    "\n",
    "for i in range(4):  # Predicting 4 days\n",
    "    next_prediction = model.predict(current_batch)\n",
    "    next_prediction_reshaped = next_prediction.reshape(1, 1, 1)\n",
    "    current_batch = np.append(current_batch[:, 1:, :], next_prediction_reshaped, axis=1)\n",
    "    predicted_prices.append(scaler.inverse_transform(next_prediction)[0, 0])\n",
    "\n",
    "# Creating a list of dates for the predictions\n",
    "last_date = data.index[-1]\n",
    "next_day = last_date + pd.Timedelta(days=1)\n",
    "prediction_dates = pd.date_range(start=next_day, periods=4)\n",
    "\n",
    "# Adding predictions to the DataFrame\n",
    "predicted_data = pd.DataFrame(index=prediction_dates, data=predicted_prices, columns=['Close'])\n",
    "\n",
    "# Combining both actual and predicted data\n",
    "combined_data = pd.concat([data['Close'], predicted_data['Close']])\n",
    "combined_data = combined_data[-64:] # Last 60 days of actual data + 4 days of predictions\n",
    "\n",
    "# Plotting the actual data\n",
    "plt.figure(figsize=(10,6))\n",
    "plt.plot(data.index[-60:], data['Close'][-60:], linestyle='-', marker='o', color='blue', label='Actual Data')\n",
    "\n",
    "# Plotting the predicted data\n",
    "plt.plot(prediction_dates, predicted_prices, linestyle='-', marker='o', color='red', label='Predicted Data')\n",
    "\n",
    "plt.title(\"BBCA Stock Price: Last 60 Days and Next 4 Days Predicted\")\n",
    "plt.xlabel('Date')\n",
    "plt.ylabel('Price')\n",
    "plt.legend()\n",
    "plt.show()"
   ]
  },
  {
   "cell_type": "code",
   "execution_count": 31,
   "metadata": {
    "colab": {
     "base_uri": "https://localhost:8080/"
    },
    "id": "t1i6mOTjHI4q",
    "outputId": "121348ff-6e65-494a-ce79-cdcdd3425587"
   },
   "outputs": [
    {
     "name": "stdout",
     "output_type": "stream",
     "text": [
      "Enter a date (YYYY-MM-DD) to predict BBCA stock for the next 4 days: 2024-04-01\n"
     ]
    },
    {
     "name": "stderr",
     "output_type": "stream",
     "text": [
      "\r",
      "[*********************100%%**********************]  1 of 1 completed"
     ]
    },
    {
     "name": "stdout",
     "output_type": "stream",
     "text": [
      "Not enough historical data to make a prediction. Try an earlier date.\n"
     ]
    },
    {
     "name": "stderr",
     "output_type": "stream",
     "text": [
      "\n"
     ]
    }
   ],
   "source": [
    "import yfinance as yf\n",
    "import numpy as np\n",
    "import pandas as pd\n",
    "from sklearn.preprocessing import MinMaxScaler\n",
    "from datetime import datetime, timedelta\n",
    "\n",
    "\n",
    "def predict_stock_price(input_date):\n",
    "    # Check if the input date is a valid date format\n",
    "    try:\n",
    "        input_date = pd.to_datetime(input_date)\n",
    "    except ValueError:\n",
    "        print(\"Invalid Date Format. Please enter date in YYYY-MM-DD format.\")\n",
    "        return\n",
    "\n",
    "    # Fetch data from yfinance\n",
    "    end_date = input_date\n",
    "    start_date = input_date - timedelta(days=90)  # Fetch more days to ensure we have 60 trading days\n",
    "    data = yf.download('BBCA.JK', start=start_date, end=end_date)\n",
    "\n",
    "    if len(data) < 60:\n",
    "        print(\"Not enough historical data to make a prediction. Try an earlier date.\")\n",
    "        return\n",
    "\n",
    "    # Prepare the data\n",
    "    closing_prices = data['Close'].values[-60:]  # Last 60 days\n",
    "    scaler = MinMaxScaler(feature_range=(0, 1))\n",
    "    scaled_data = scaler.fit_transform(closing_prices.reshape(-1, 1))\n",
    "\n",
    "    # Make predictions\n",
    "    predicted_prices = []\n",
    "    current_batch = scaled_data.reshape(1, 60, 1)\n",
    "\n",
    "    for i in range(4):  # Predicting 4 days\n",
    "        next_prediction = model.predict(current_batch)\n",
    "        next_prediction_reshaped = next_prediction.reshape(1, 1, 1)\n",
    "        current_batch = np.append(current_batch[:, 1:, :], next_prediction_reshaped, axis=1)\n",
    "        predicted_prices.append(scaler.inverse_transform(next_prediction)[0, 0])\n",
    "\n",
    "    # Output the predictions\n",
    "    for i, price in enumerate(predicted_prices, 1):\n",
    "        print(f\"Day {i} prediction: {price}\")\n",
    "\n",
    "# Example use\n",
    "user_input = input(\"Enter a date (YYYY-MM-DD) to predict BBCA stock for the next 4 days: \")\n",
    "predict_stock_price(user_input)\n"
   ]
  }
 ],
 "metadata": {
  "accelerator": "GPU",
  "colab": {
   "gpuType": "T4",
   "provenance": []
  },
  "kernelspec": {
   "display_name": "Python 3 (ipykernel)",
   "language": "python",
   "name": "python3"
  },
  "language_info": {
   "codemirror_mode": {
    "name": "ipython",
    "version": 3
   },
   "file_extension": ".py",
   "mimetype": "text/x-python",
   "name": "python",
   "nbconvert_exporter": "python",
   "pygments_lexer": "ipython3",
   "version": "3.11.7"
  }
 },
 "nbformat": 4,
 "nbformat_minor": 1
}
